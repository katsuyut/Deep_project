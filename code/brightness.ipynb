{
 "cells": [
  {
   "cell_type": "code",
   "execution_count": 1,
   "metadata": {},
   "outputs": [],
   "source": [
    "import numpy as np # linear algebra\n",
    "import pandas as pd # data processing, CSV file I/O (e.g. pd.read_csv)\n",
    "import os, math\n",
    "from PIL import Image, ImageStat\n",
    "from torchvision import transforms\n",
    "import matplotlib.pyplot as plt"
   ]
  },
  {
   "cell_type": "code",
   "execution_count": 2,
   "metadata": {},
   "outputs": [],
   "source": [
    "# def brightness1( im_file ):\n",
    "#     im = Image.open(im_file).convert('L')\n",
    "#     stat = ImageStat.Stat(im)\n",
    "#     return stat.mean[0]\n",
    "\n",
    "def brightness2(im): # use this method\n",
    "    stat = ImageStat.Stat(im)\n",
    "    return stat.rms[0]\n",
    "\n",
    "def brightness3(im): \n",
    "    stat = ImageStat.Stat(im)\n",
    "    r,g,b = stat.mean\n",
    "    return math.sqrt(0.241*(r**2) + 0.691*(g**2) + 0.068*(b**2))\n",
    "\n",
    "def brightness4(im):\n",
    "    stat = ImageStat.Stat(im)\n",
    "    r,g,b = stat.rms\n",
    "    return math.sqrt(0.241*(r**2) + 0.691*(g**2) + 0.068*(b**2))\n",
    "\n",
    "# def brightness5( im_file ):\n",
    "#     im = Image.open(im_file)\n",
    "#     stat = ImageStat.Stat(im)\n",
    "#     gs = (math.sqrt(0.241*(r**2) + 0.691*(g**2) + 0.068*(b**2)) \n",
    "#           for r,g,b in im.getdata())\n",
    "#     return sum(gs)/stat.count[0]"
   ]
  },
  {
   "cell_type": "code",
   "execution_count": 3,
   "metadata": {},
   "outputs": [],
   "source": [
    "input_images0 = '../input/all-dogs/pics/'\n",
    "input_images1 = '../input/all-dogs-crop/pics/'\n",
    "input_images2 = '../input/all-dogs-crop2/pics/'\n",
    "input_images3 = '../input/all-dogs-crop3/pics/'\n",
    "input_images4 = '../input/all-dogs-crop-brightened/pics/'\n",
    "\n",
    "output_images1 = '../output_images/starter_30epoch/'\n",
    "output_images2 = '../output_images/starter_200epoch/'\n",
    "output_images3 = '../output_images/crop_200epoch/'\n",
    "output_images4 = '../output_images/crop2_200epoch/'\n",
    "output_images5 = '../output_images/crop3_200epoch/'\n",
    "output_images6 = '../output_images/crop_brightened_200epoch/'"
   ]
  },
  {
   "cell_type": "code",
   "execution_count": 35,
   "metadata": {},
   "outputs": [
    {
     "data": {
      "text/plain": [
       "136.3581477901103"
      ]
     },
     "execution_count": 35,
     "metadata": {},
     "output_type": "execute_result"
    }
   ],
   "source": [
    "# '../input/all-dogs/pics/'\n",
    "folder_path = input_images0\n",
    "\n",
    "all_images=os.listdir(folder_path)\n",
    "\n",
    "br = []\n",
    "\n",
    "for image in all_images:\n",
    "    image_path = os.path.join(folder_path,image)\n",
    "    im = Image.open(image_path)\n",
    "    br.append(brightness2(im))\n",
    "np.average(br)"
   ]
  },
  {
   "cell_type": "code",
   "execution_count": 39,
   "metadata": {},
   "outputs": [
    {
     "data": {
      "text/plain": [
       "135.41920196792577"
      ]
     },
     "execution_count": 39,
     "metadata": {},
     "output_type": "execute_result"
    }
   ],
   "source": [
    "# '../input/all-dogs-crop/pics/'\n",
    "folder_path = input_images1\n",
    "\n",
    "all_images=os.listdir(folder_path)\n",
    "\n",
    "br = []\n",
    "\n",
    "for image in all_images:\n",
    "    image_path = os.path.join(folder_path,image)\n",
    "    im = Image.open(image_path)\n",
    "    br.append(brightness2(im))\n",
    "np.average(br)"
   ]
  },
  {
   "cell_type": "code",
   "execution_count": 40,
   "metadata": {},
   "outputs": [
    {
     "data": {
      "text/plain": [
       "130.00946466963086"
      ]
     },
     "execution_count": 40,
     "metadata": {},
     "output_type": "execute_result"
    }
   ],
   "source": [
    "# '../input/all-dogs-crop2/pics/'\n",
    "folder_path = input_images2\n",
    "\n",
    "all_images=os.listdir(folder_path)\n",
    "\n",
    "br = []\n",
    "\n",
    "for image in all_images:\n",
    "    image_path = os.path.join(folder_path,image)\n",
    "    im = Image.open(image_path)\n",
    "    br.append(brightness2(im))\n",
    "np.average(br)"
   ]
  },
  {
   "cell_type": "code",
   "execution_count": 41,
   "metadata": {},
   "outputs": [
    {
     "data": {
      "text/plain": [
       "135.58619355009955"
      ]
     },
     "execution_count": 41,
     "metadata": {},
     "output_type": "execute_result"
    }
   ],
   "source": [
    "# '../input/all-dogs-crop3/pics/'\n",
    "folder_path = input_images3\n",
    "\n",
    "all_images=os.listdir(folder_path)\n",
    "\n",
    "br = []\n",
    "\n",
    "for image in all_images:\n",
    "    image_path = os.path.join(folder_path,image)\n",
    "    im = Image.open(image_path)\n",
    "    br.append(brightness2(im))\n",
    "np.average(br)"
   ]
  },
  {
   "cell_type": "code",
   "execution_count": 42,
   "metadata": {},
   "outputs": [
    {
     "data": {
      "text/plain": [
       "72.65331135758127"
      ]
     },
     "execution_count": 42,
     "metadata": {},
     "output_type": "execute_result"
    }
   ],
   "source": [
    "# '../output_images/starter_30epoch/'\n",
    "folder_path = output_images1\n",
    "\n",
    "all_images=os.listdir(folder_path)\n",
    "\n",
    "br = []\n",
    "\n",
    "for image in all_images:\n",
    "    image_path = os.path.join(folder_path,image)\n",
    "    im = Image.open(image_path)\n",
    "    br.append(brightness2(im))\n",
    "np.average(br)"
   ]
  },
  {
   "cell_type": "code",
   "execution_count": 43,
   "metadata": {},
   "outputs": [
    {
     "data": {
      "text/plain": [
       "59.73520693445571"
      ]
     },
     "execution_count": 43,
     "metadata": {},
     "output_type": "execute_result"
    }
   ],
   "source": [
    "# '../output_images/starter_200epoch/'\n",
    "folder_path = output_images2\n",
    "\n",
    "all_images=os.listdir(folder_path)\n",
    "\n",
    "br = []\n",
    "\n",
    "for image in all_images:\n",
    "    image_path = os.path.join(folder_path,image)\n",
    "    im = Image.open(image_path)\n",
    "    br.append(brightness2(im))\n",
    "np.average(br)"
   ]
  },
  {
   "cell_type": "code",
   "execution_count": 44,
   "metadata": {},
   "outputs": [
    {
     "data": {
      "text/plain": [
       "63.731521540465074"
      ]
     },
     "execution_count": 44,
     "metadata": {},
     "output_type": "execute_result"
    }
   ],
   "source": [
    "# '../output_images/crop_200epoch/'\n",
    "folder_path = output_images3\n",
    "\n",
    "all_images=os.listdir(folder_path)\n",
    "\n",
    "br = []\n",
    "\n",
    "for image in all_images:\n",
    "    image_path = os.path.join(folder_path,image)\n",
    "    im = Image.open(image_path)\n",
    "    br.append(brightness2(im))\n",
    "np.average(br)"
   ]
  },
  {
   "cell_type": "code",
   "execution_count": 45,
   "metadata": {},
   "outputs": [
    {
     "data": {
      "text/plain": [
       "66.03148135840985"
      ]
     },
     "execution_count": 45,
     "metadata": {},
     "output_type": "execute_result"
    }
   ],
   "source": [
    "# '../output_images/crop2_200epoch/'\n",
    "folder_path = output_images4\n",
    "\n",
    "all_images=os.listdir(folder_path)\n",
    "\n",
    "br = []\n",
    "\n",
    "for image in all_images:\n",
    "    image_path = os.path.join(folder_path,image)\n",
    "    im = Image.open(image_path)\n",
    "    br.append(brightness2(im))\n",
    "np.average(br)"
   ]
  },
  {
   "cell_type": "code",
   "execution_count": 48,
   "metadata": {},
   "outputs": [
    {
     "data": {
      "text/plain": [
       "64.46111119220024"
      ]
     },
     "execution_count": 48,
     "metadata": {},
     "output_type": "execute_result"
    }
   ],
   "source": [
    "# '../output_images/crop3_200epoch/'\n",
    "folder_path = output_images5\n",
    "\n",
    "all_images=os.listdir(folder_path)\n",
    "\n",
    "br = []\n",
    "\n",
    "for image in all_images:\n",
    "    image_path = os.path.join(folder_path,image)\n",
    "    im = Image.open(image_path)\n",
    "    br.append(brightness2(im))\n",
    "np.average(br)"
   ]
  },
  {
   "cell_type": "code",
   "execution_count": 69,
   "metadata": {},
   "outputs": [
    {
     "data": {
      "text/plain": [
       "78.40132921924528"
      ]
     },
     "execution_count": 69,
     "metadata": {},
     "output_type": "execute_result"
    }
   ],
   "source": [
    "# '../output_images/crop_brightened_200epoch/'\n",
    "folder_path = output_images6\n",
    "\n",
    "all_images=os.listdir(folder_path)\n",
    "\n",
    "br = []\n",
    "\n",
    "for image in all_images:\n",
    "    image_path = os.path.join(folder_path,image)\n",
    "    im = Image.open(image_path)\n",
    "    br.append(brightness2(im))\n",
    "np.average(br)"
   ]
  },
  {
   "cell_type": "code",
   "execution_count": null,
   "metadata": {},
   "outputs": [],
   "source": []
  },
  {
   "cell_type": "code",
   "execution_count": 4,
   "metadata": {
    "scrolled": false
   },
   "outputs": [
    {
     "ename": "FileNotFoundError",
     "evalue": "[Errno 2] No such file or directory: '../input/all-dogs-crop/pics/'",
     "output_type": "error",
     "traceback": [
      "\u001b[0;31m------------------------------------------------------\u001b[0m",
      "\u001b[0;31mFileNotFoundError\u001b[0m    Traceback (most recent call last)",
      "\u001b[0;32m<ipython-input-4-e55f3134c45d>\u001b[0m in \u001b[0;36m<module>\u001b[0;34m\u001b[0m\n\u001b[1;32m      4\u001b[0m \u001b[0mfolder_path\u001b[0m \u001b[0;34m=\u001b[0m \u001b[0minput_images1\u001b[0m\u001b[0;34m\u001b[0m\u001b[0;34m\u001b[0m\u001b[0m\n\u001b[1;32m      5\u001b[0m \u001b[0;34m\u001b[0m\u001b[0m\n\u001b[0;32m----> 6\u001b[0;31m \u001b[0mall_images\u001b[0m\u001b[0;34m=\u001b[0m\u001b[0mos\u001b[0m\u001b[0;34m.\u001b[0m\u001b[0mlistdir\u001b[0m\u001b[0;34m(\u001b[0m\u001b[0mfolder_path\u001b[0m\u001b[0;34m)\u001b[0m\u001b[0;34m\u001b[0m\u001b[0;34m\u001b[0m\u001b[0m\n\u001b[0m\u001b[1;32m      7\u001b[0m \u001b[0;34m\u001b[0m\u001b[0m\n\u001b[1;32m      8\u001b[0m fig, axes = plt.subplots(5, 10, figsize=(15, 8),\n",
      "\u001b[0;31mFileNotFoundError\u001b[0m: [Errno 2] No such file or directory: '../input/all-dogs-crop/pics/'"
     ]
    }
   ],
   "source": [
    "from PIL import ImageEnhance\n",
    "\n",
    "# '../input/all-dogs-crop/pics/'\n",
    "folder_path = input_images1\n",
    "\n",
    "all_images=os.listdir(folder_path)\n",
    "\n",
    "fig, axes = plt.subplots(5, 10, figsize=(15, 8),\n",
    "                         subplot_kw={'xticks': (), 'yticks': ()})\n",
    "\n",
    "for image, ax in zip(all_images, axes.ravel()):\n",
    "    image_path = os.path.join(folder_path,image)\n",
    "#     print(brightness3(image_path))\n",
    "\n",
    "    im=Image.open(os.path.join(folder_path,image))\n",
    "    ax.imshow(im)\n",
    "\n",
    "plt.show()\n",
    "\n",
    "####################################################\n",
    "print('modified \\n')\n",
    "    \n",
    "# '../input/all-dogs-crop/pics/'\n",
    "folder_path = input_images1\n",
    "\n",
    "all_images=os.listdir(folder_path)\n",
    "\n",
    "fig, axes = plt.subplots(5, 10, figsize=(15, 8),\n",
    "                         subplot_kw={'xticks': (), 'yticks': ()})\n",
    "\n",
    "for image, ax in zip(all_images, axes.ravel()):\n",
    "    image_path = os.path.join(folder_path,image)\n",
    "    im = Image.open(image_path)\n",
    "    br = brightness2(im)\n",
    "    \n",
    "    if br < 135:\n",
    "        imenhance = ImageEnhance.Brightness(im)\n",
    "        im = imenhance.enhance(140/br)\n",
    "#     print(br, brightness2(im))\n",
    "    ax.imshow(im)"
   ]
  },
  {
   "cell_type": "code",
   "execution_count": 55,
   "metadata": {},
   "outputs": [],
   "source": [
    "folder_path = input_images1\n",
    "\n",
    "all_images=os.listdir(folder_path)\n",
    "\n",
    "for image in all_images:\n",
    "    image_path = os.path.join(folder_path,image)\n",
    "    im = Image.open(image_path)\n",
    "    br = brightness2(im)\n",
    "    \n",
    "    if br < 135:\n",
    "        imenhance = ImageEnhance.Brightness(im)\n",
    "        im = imenhance.enhance(140/br)\n",
    "#     print(br, brightness2(im))\n",
    "#     ax.imshow(im)\n",
    "    savepath = \"../input/all-dogs-crop-brightened/pics/\" + image\n",
    "    im.save(savepath,\"PNG\")"
   ]
  },
  {
   "cell_type": "code",
   "execution_count": 57,
   "metadata": {},
   "outputs": [
    {
     "data": {
      "text/plain": [
       "146.8082227797506"
      ]
     },
     "execution_count": 57,
     "metadata": {},
     "output_type": "execute_result"
    }
   ],
   "source": [
    "# '../input/all-dogs-crop-brightened/pics/'\n",
    "\n",
    "folder_path = input_images4\n",
    "\n",
    "all_images=os.listdir(folder_path)\n",
    "\n",
    "br = []\n",
    "\n",
    "for image in all_images:\n",
    "    image_path = os.path.join(folder_path,image)\n",
    "    im = Image.open(image_path)\n",
    "    br.append(brightness2(im))\n",
    "np.average(br)"
   ]
  },
  {
   "cell_type": "code",
   "execution_count": null,
   "metadata": {},
   "outputs": [],
   "source": []
  }
 ],
 "metadata": {
  "kernelspec": {
   "display_name": "Python 3",
   "language": "python",
   "name": "python3"
  },
  "language_info": {
   "codemirror_mode": {
    "name": "ipython",
    "version": 3
   },
   "file_extension": ".py",
   "mimetype": "text/x-python",
   "name": "python",
   "nbconvert_exporter": "python",
   "pygments_lexer": "ipython3",
   "version": "3.6.7"
  }
 },
 "nbformat": 4,
 "nbformat_minor": 2
}
