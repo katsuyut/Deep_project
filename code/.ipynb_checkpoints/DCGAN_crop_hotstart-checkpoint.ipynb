{
 "cells": [
  {
   "cell_type": "code",
   "execution_count": 0,
   "metadata": {
    "colab": {},
    "colab_type": "code",
    "id": "THmfVs03R3Ao"
   },
   "outputs": [],
   "source": [
    "!rm -rf Deep_project"
   ]
  },
  {
   "cell_type": "code",
   "execution_count": 0,
   "metadata": {
    "colab": {
     "base_uri": "https://localhost:8080/",
     "height": 151
    },
    "colab_type": "code",
    "executionInfo": {
     "elapsed": 37715,
     "status": "ok",
     "timestamp": 1572234008039,
     "user": {
      "displayName": "Katsuyuki Tomita",
      "photoUrl": "",
      "userId": "01382129506723224111"
     },
     "user_tz": 240
    },
    "id": "KZAhhvoC4FMs",
    "outputId": "230c68f4-42f9-4b55-c307-8b7c805a804a"
   },
   "outputs": [
    {
     "name": "stdout",
     "output_type": "stream",
     "text": [
      "Cloning into 'Deep_project'...\n",
      "remote: Enumerating objects: 5, done.\u001b[K\n",
      "remote: Counting objects: 100% (5/5), done.\u001b[K\n",
      "remote: Compressing objects: 100% (3/3), done.\u001b[K\n",
      "remote: Total 72013 (delta 0), reused 4 (delta 0), pack-reused 72008\u001b[K\n",
      "Receiving objects: 100% (72013/72013), 1.11 GiB | 42.91 MiB/s, done.\n",
      "Resolving deltas: 100% (20307/20307), done.\n",
      "Checking out files: 100% (71755/71755), done.\n"
     ]
    }
   ],
   "source": [
    "!git clone https://github.com/katsuyut/Deep_project"
   ]
  },
  {
   "cell_type": "code",
   "execution_count": 0,
   "metadata": {
    "colab": {
     "base_uri": "https://localhost:8080/",
     "height": 34
    },
    "colab_type": "code",
    "executionInfo": {
     "elapsed": 12806,
     "status": "ok",
     "timestamp": 1572234008041,
     "user": {
      "displayName": "Katsuyuki Tomita",
      "photoUrl": "",
      "userId": "01382129506723224111"
     },
     "user_tz": 240
    },
    "id": "ffhjUgS24peO",
    "outputId": "c57d8612-4234-41de-8188-4254d75fd637"
   },
   "outputs": [
    {
     "name": "stdout",
     "output_type": "stream",
     "text": [
      "/content/Deep_project/code\n"
     ]
    }
   ],
   "source": [
    "%cd Deep_project/code"
   ]
  },
  {
   "cell_type": "code",
   "execution_count": 1,
   "metadata": {
    "colab": {
     "base_uri": "https://localhost:8080/",
     "height": 34
    },
    "colab_type": "code",
    "executionInfo": {
     "elapsed": 11067,
     "status": "ok",
     "timestamp": 1572234008042,
     "user": {
      "displayName": "Katsuyuki Tomita",
      "photoUrl": "",
      "userId": "01382129506723224111"
     },
     "user_tz": 240
    },
    "id": "zD88pMDI4dYY",
    "outputId": "c4e83021-2283-4069-f794-a05c3add04fa"
   },
   "outputs": [
    {
     "name": "stdout",
     "output_type": "stream",
     "text": [
      "['.ipynb_checkpoints', 'all-dogs', 'all-dogs-crop', 'all-dogs-crop-brightened', 'all-dogs-crop2', 'all-dogs-crop3']\n"
     ]
    }
   ],
   "source": [
    "# This Python 3 environment comes with many helpful analytics libraries installed\n",
    "# It is defined by the kaggle/python docker image: https://github.com/kaggle/docker-python\n",
    "# For example, here's several helpful packages to load in \n",
    "\n",
    "import numpy as np # linear algebra\n",
    "import pandas as pd # data processing, CSV file I/O (e.g. pd.read_csv)\n",
    "\n",
    "# Input data files are available in the \"../input/\" directory.\n",
    "# For example, running this (by clicking run or pressing Shift+Enter) will list the files in the input directory\n",
    "\n",
    "import os\n",
    "print(os.listdir(\"../input\"))\n",
    "\n",
    "# Any results you write to the current directory are saved as output."
   ]
  },
  {
   "cell_type": "code",
   "execution_count": 2,
   "metadata": {
    "colab": {
     "base_uri": "https://localhost:8080/",
     "height": 34
    },
    "colab_type": "code",
    "executionInfo": {
     "elapsed": 12028,
     "status": "ok",
     "timestamp": 1572234009413,
     "user": {
      "displayName": "Katsuyuki Tomita",
      "photoUrl": "",
      "userId": "01382129506723224111"
     },
     "user_tz": 240
    },
    "id": "BhS8lErr4e9f",
    "outputId": "2cc1df2b-7ca2-4ed6-9ae6-6aa3d851b332"
   },
   "outputs": [
    {
     "data": {
      "text/plain": [
       "device(type='cpu')"
      ]
     },
     "execution_count": 2,
     "metadata": {},
     "output_type": "execute_result"
    }
   ],
   "source": [
    "import torch\n",
    "device = torch.device(\"cuda\" if torch.cuda.is_available() else \"cpu\")\n",
    "device"
   ]
  },
  {
   "cell_type": "code",
   "execution_count": 0,
   "metadata": {
    "colab": {
     "base_uri": "https://localhost:8080/",
     "height": 255
    },
    "colab_type": "code",
    "executionInfo": {
     "elapsed": 21159,
     "status": "ok",
     "timestamp": 1572234020103,
     "user": {
      "displayName": "Katsuyuki Tomita",
      "photoUrl": "",
      "userId": "01382129506723224111"
     },
     "user_tz": 240
    },
    "id": "Nd3OEp5S4gqo",
    "outputId": "722b0720-cd47-4d4d-9d39-c89ec534601d"
   },
   "outputs": [
    {
     "name": "stdout",
     "output_type": "stream",
     "text": [
      "Collecting gputil\n",
      "  Downloading https://files.pythonhosted.org/packages/ed/0e/5c61eedde9f6c87713e89d794f01e378cfd9565847d4576fa627d758c554/GPUtil-1.4.0.tar.gz\n",
      "Building wheels for collected packages: gputil\n",
      "  Building wheel for gputil (setup.py) ... \u001b[?25l\u001b[?25hdone\n",
      "  Created wheel for gputil: filename=GPUtil-1.4.0-cp36-none-any.whl size=7410 sha256=ef71f3f11d00986bc36ede7b8cb0fa8df9b16bb6e0fc487f4c35191581171b08\n",
      "  Stored in directory: /root/.cache/pip/wheels/3d/77/07/80562de4bb0786e5ea186911a2c831fdd0018bda69beab71fd\n",
      "Successfully built gputil\n",
      "Installing collected packages: gputil\n",
      "Successfully installed gputil-1.4.0\n",
      "Requirement already satisfied: psutil in /usr/local/lib/python3.6/dist-packages (5.4.8)\n",
      "Requirement already satisfied: humanize in /usr/local/lib/python3.6/dist-packages (0.5.1)\n",
      "Gen RAM Free: 12.7 GB  | Proc size: 286.1 MB\n",
      "GPU RAM Free: 11430MB | Used: 11MB | Util   0% | Total 11441MB\n"
     ]
    }
   ],
   "source": [
    "# memory footprint support libraries/code\n",
    "!ln -sf /opt/bin/nvidia-smi /usr/bin/nvidia-smi\n",
    "!pip install gputil\n",
    "!pip install psutil\n",
    "!pip install humanize\n",
    "import psutil\n",
    "import humanize\n",
    "import os\n",
    "import GPUtil as GPU\n",
    "GPUs = GPU.getGPUs()\n",
    "# XXX: only one GPU on Colab and isn’t guaranteed\n",
    "gpu = GPUs[0]\n",
    "def printm():\n",
    "    process = psutil.Process(os.getpid())\n",
    "    print(\"Gen RAM Free: \" + humanize.naturalsize( psutil.virtual_memory().available ), \" | Proc size: \" + humanize.naturalsize( process.memory_info().rss))\n",
    "    print(\"GPU RAM Free: {0:.0f}MB | Used: {1:.0f}MB | Util {2:3.0f}% | Total {3:.0f}MB\".format(gpu.memoryFree, gpu.memoryUsed, gpu.memoryUtil*100, gpu.memoryTotal))\n",
    "printm() "
   ]
  },
  {
   "cell_type": "code",
   "execution_count": 3,
   "metadata": {
    "colab": {},
    "colab_type": "code",
    "id": "ZFYSuMluTX1L"
   },
   "outputs": [],
   "source": [
    "ishotstart = True"
   ]
  },
  {
   "cell_type": "code",
   "execution_count": 4,
   "metadata": {
    "colab": {},
    "colab_type": "code",
    "id": "KSXayMwbT6AN"
   },
   "outputs": [
    {
     "ename": "ModuleNotFoundError",
     "evalue": "No module named 'google.colab'",
     "output_type": "error",
     "traceback": [
      "\u001b[0;31m------------------------------------------------------\u001b[0m",
      "\u001b[0;31mModuleNotFoundError\u001b[0m  Traceback (most recent call last)",
      "\u001b[0;32m<ipython-input-4-8dd0a6289069>\u001b[0m in \u001b[0;36m<module>\u001b[0;34m\u001b[0m\n\u001b[1;32m      8\u001b[0m \u001b[0;32mimport\u001b[0m \u001b[0mos\u001b[0m\u001b[0;34m\u001b[0m\u001b[0;34m\u001b[0m\u001b[0m\n\u001b[1;32m      9\u001b[0m \u001b[0;32mfrom\u001b[0m \u001b[0mIPython\u001b[0m\u001b[0;34m.\u001b[0m\u001b[0mdisplay\u001b[0m \u001b[0;32mimport\u001b[0m \u001b[0mclear_output\u001b[0m\u001b[0;34m\u001b[0m\u001b[0;34m\u001b[0m\u001b[0m\n\u001b[0;32m---> 10\u001b[0;31m \u001b[0;32mfrom\u001b[0m \u001b[0mgoogle\u001b[0m\u001b[0;34m.\u001b[0m\u001b[0mcolab\u001b[0m \u001b[0;32mimport\u001b[0m \u001b[0mfiles\u001b[0m\u001b[0;34m\u001b[0m\u001b[0;34m\u001b[0m\u001b[0m\n\u001b[0m\u001b[1;32m     11\u001b[0m \u001b[0;32mimport\u001b[0m \u001b[0mpickle\u001b[0m\u001b[0;34m\u001b[0m\u001b[0;34m\u001b[0m\u001b[0m\n\u001b[1;32m     12\u001b[0m \u001b[0mget_ipython\u001b[0m\u001b[0;34m(\u001b[0m\u001b[0;34m)\u001b[0m\u001b[0;34m.\u001b[0m\u001b[0mrun_line_magic\u001b[0m\u001b[0;34m(\u001b[0m\u001b[0;34m'matplotlib'\u001b[0m\u001b[0;34m,\u001b[0m \u001b[0;34m'inline'\u001b[0m\u001b[0;34m)\u001b[0m\u001b[0;34m\u001b[0m\u001b[0;34m\u001b[0m\u001b[0m\n",
      "\u001b[0;31mModuleNotFoundError\u001b[0m: No module named 'google.colab'"
     ]
    }
   ],
   "source": [
    "import matplotlib.pyplot as plt\n",
    "import numpy as np\n",
    "import torch\n",
    "from torch import nn, optim\n",
    "import torch.nn.functional as F\n",
    "from torchvision import datasets, transforms\n",
    "from torchvision.utils import save_image\n",
    "import os\n",
    "from IPython.display import clear_output\n",
    "from google.colab import files\n",
    "import pickle\n",
    "%matplotlib inline"
   ]
  },
  {
   "cell_type": "code",
   "execution_count": 6,
   "metadata": {
    "colab": {},
    "colab_type": "code",
    "id": "xQk3EcxPUB7r"
   },
   "outputs": [],
   "source": [
    "class Generator(nn.Module):\n",
    "    def __init__(self, nz, nfeats, nchannels):\n",
    "        super(Generator, self).__init__()\n",
    "\n",
    "        # input is Z, going into a convolution\n",
    "        self.conv1 = nn.ConvTranspose2d(nz, nfeats * 8, 4, 1, 0, bias=False)\n",
    "        self.bn1 = nn.BatchNorm2d(nfeats * 8)\n",
    "        # state size. (nfeats*8) x 4 x 4\n",
    "        \n",
    "        self.conv2 = nn.ConvTranspose2d(nfeats * 8, nfeats * 8, 4, 2, 1, bias=False)\n",
    "        self.bn2 = nn.BatchNorm2d(nfeats * 8)\n",
    "        # state size. (nfeats*8) x 8 x 8\n",
    "        \n",
    "        self.conv3 = nn.ConvTranspose2d(nfeats * 8, nfeats * 4, 4, 2, 1, bias=False)\n",
    "        self.bn3 = nn.BatchNorm2d(nfeats * 4)\n",
    "        # state size. (nfeats*4) x 16 x 16\n",
    "        \n",
    "        self.conv4 = nn.ConvTranspose2d(nfeats * 4, nfeats * 2, 4, 2, 1, bias=False)\n",
    "        self.bn4 = nn.BatchNorm2d(nfeats * 2)\n",
    "        # state size. (nfeats * 2) x 32 x 32\n",
    "        \n",
    "        self.conv5 = nn.ConvTranspose2d(nfeats * 2, nfeats, 4, 2, 1, bias=False)\n",
    "        self.bn5 = nn.BatchNorm2d(nfeats)\n",
    "        # state size. (nfeats) x 64 x 64\n",
    "        \n",
    "        self.conv6 = nn.ConvTranspose2d(nfeats, nchannels, 3, 1, 1, bias=False)\n",
    "        # state size. (nchannels) x 64 x 64\n",
    "\n",
    "    def forward(self, x):\n",
    "        x = F.leaky_relu(self.bn1(self.conv1(x)))\n",
    "        x = F.leaky_relu(self.bn2(self.conv2(x)))\n",
    "        x = F.leaky_relu(self.bn3(self.conv3(x)))\n",
    "        x = F.leaky_relu(self.bn4(self.conv4(x)))\n",
    "        x = F.leaky_relu(self.bn5(self.conv5(x)))\n",
    "        x = torch.tanh(self.conv6(x))\n",
    "        \n",
    "        return x\n",
    "\n",
    "\n",
    "\n",
    "class Discriminator(nn.Module):\n",
    "    def __init__(self, nchannels, nfeats):\n",
    "        super(Discriminator, self).__init__()\n",
    "\n",
    "        # input is (nchannels) x 64 x 64\n",
    "        self.conv1 = nn.Conv2d(nchannels, nfeats, 4, 2, 1, bias=False)\n",
    "        # state size. (nfeats) x 32 x 32\n",
    "        \n",
    "        self.conv2 = nn.Conv2d(nfeats, nfeats * 2, 4, 2, 1, bias=False)\n",
    "        self.bn2 = nn.BatchNorm2d(nfeats * 2)\n",
    "        # state size. (nfeats*2) x 16 x 16\n",
    "        \n",
    "        self.conv3 = nn.Conv2d(nfeats * 2, nfeats * 4, 4, 2, 1, bias=False)\n",
    "        self.bn3 = nn.BatchNorm2d(nfeats * 4)\n",
    "        # state size. (nfeats*4) x 8 x 8\n",
    "       \n",
    "        self.conv4 = nn.Conv2d(nfeats * 4, nfeats * 8, 4, 2, 1, bias=False)\n",
    "        self.bn4 = nn.BatchNorm2d(nfeats * 8)\n",
    "        # state size. (nfeats*8) x 4 x 4\n",
    "        \n",
    "        self.conv5 = nn.Conv2d(nfeats * 8, 1, 4, 1, 0, bias=False)\n",
    "        # state size. 1 x 1 x 1\n",
    "        \n",
    "    def forward(self, x):\n",
    "        x = F.leaky_relu(self.conv1(x), 0.2)\n",
    "        x = F.leaky_relu(self.bn2(self.conv2(x)), 0.2)\n",
    "        x = F.leaky_relu(self.bn3(self.conv3(x)), 0.2)\n",
    "        x = F.leaky_relu(self.bn4(self.conv4(x)), 0.2)\n",
    "        x = torch.sigmoid(self.conv5(x))\n",
    "        \n",
    "        return x.view(-1, 1)"
   ]
  },
  {
   "cell_type": "code",
   "execution_count": 7,
   "metadata": {
    "colab": {},
    "colab_type": "code",
    "id": "1Ti7b_lcU4pS"
   },
   "outputs": [
    {
     "data": {
      "image/png": "[encoded data removed]",
      "text/plain": [
       "<Figure size 432x288 with 1 Axes>"
      ]
     },
     "metadata": {
      "needs_background": "light"
     },
     "output_type": "display_data"
    }
   ],
   "source": [
    "import time\n",
    "start = time.time()\n",
    "\n",
    "fig = plt.figure()\n",
    "ax = fig.add_subplot(1, 1, 1) \n",
    "\n",
    "batch_size = 32\n",
    "\n",
    "# 64x64 images!\n",
    "transform = transforms.Compose([transforms.Resize(64),\n",
    "                                transforms.CenterCrop(64),\n",
    "                                transforms.ToTensor(),\n",
    "                                transforms.Normalize((0.5, 0.5, 0.5), (0.5, 0.5, 0.5))])\n",
    "\n",
    "train_data = datasets.ImageFolder('../input/all-dogs-crop/', transform=transform)\n",
    "train_loader = torch.utils.data.DataLoader(train_data, shuffle=True,\n",
    "                                           batch_size=batch_size)\n",
    "\n",
    "imgs, label = next(iter(train_loader))\n",
    "imgs = imgs.numpy().transpose(0, 2, 3, 1)\n",
    "\n",
    "device = torch.device(\"cuda\" if torch.cuda.is_available() else \"cpu\")\n",
    "\n",
    "lr = 0.0003\n",
    "beta1 = 0.5\n",
    "\n",
    "netG = Generator(100, 32, 3).to(device)\n",
    "netD = Discriminator(3, 48).to(device)\n",
    "\n",
    "criterion = nn.BCELoss()\n",
    "\n",
    "optimizerD = optim.Adam(netD.parameters(), lr=lr, betas=(beta1, 0.999))\n",
    "optimizerG = optim.Adam(netG.parameters(), lr=lr, betas=(beta1, 0.999))\n",
    "\n",
    "nz = 100\n",
    "\n",
    "real_label = 0.9\n",
    "fake_label = 0\n",
    "batch_size = train_loader.batch_size"
   ]
  },
  {
   "cell_type": "code",
   "execution_count": 8,
   "metadata": {
    "colab": {
     "base_uri": "https://localhost:8080/",
     "height": 642
    },
    "colab_type": "code",
    "executionInfo": {
     "elapsed": 55704,
     "status": "ok",
     "timestamp": 1572248871556,
     "user": {
      "displayName": "Katsuyuki Tomita",
      "photoUrl": "",
      "userId": "01382129506723224111"
     },
     "user_tz": 240
    },
    "id": "OL1rnIGp4h06",
    "outputId": "3cde3812-43f6-4e75-a456-72b7fbb68893"
   },
   "outputs": [
    {
     "ename": "NameError",
     "evalue": "name 'hotstart' is not defined",
     "output_type": "error",
     "traceback": [
      "\u001b[0;31m------------------------------------------------------\u001b[0m",
      "\u001b[0;31mNameError\u001b[0m            Traceback (most recent call last)",
      "\u001b[0;32m<ipython-input-8-0bb625441cf8>\u001b[0m in \u001b[0;36m<module>\u001b[0;34m\u001b[0m\n\u001b[1;32m      1\u001b[0m \u001b[0;31m### read or initiate parameters\u001b[0m\u001b[0;34m\u001b[0m\u001b[0;34m\u001b[0m\u001b[0;34m\u001b[0m\u001b[0m\n\u001b[1;32m      2\u001b[0m \u001b[0;34m\u001b[0m\u001b[0m\n\u001b[0;32m----> 3\u001b[0;31m \u001b[0;32mif\u001b[0m \u001b[0mhotstart\u001b[0m\u001b[0;34m:\u001b[0m\u001b[0;34m\u001b[0m\u001b[0;34m\u001b[0m\u001b[0m\n\u001b[0m\u001b[1;32m      4\u001b[0m     \u001b[0;32mif\u001b[0m \u001b[0mos\u001b[0m\u001b[0;34m.\u001b[0m\u001b[0mpath\u001b[0m\u001b[0;34m.\u001b[0m\u001b[0mexists\u001b[0m\u001b[0;34m(\u001b[0m\u001b[0;34m'./hotstart/'\u001b[0m\u001b[0;34m)\u001b[0m\u001b[0;34m:\u001b[0m\u001b[0;34m\u001b[0m\u001b[0;34m\u001b[0m\u001b[0m\n\u001b[1;32m      5\u001b[0m         \u001b[0mDparam\u001b[0m \u001b[0;34m=\u001b[0m \u001b[0mtorch\u001b[0m\u001b[0;34m.\u001b[0m\u001b[0mload\u001b[0m\u001b[0;34m(\u001b[0m\u001b[0;34m'./hotstart/Dweight.pth'\u001b[0m\u001b[0;34m)\u001b[0m\u001b[0;34m\u001b[0m\u001b[0;34m\u001b[0m\u001b[0m\n",
      "\u001b[0;31mNameError\u001b[0m: name 'hotstart' is not defined"
     ]
    }
   ],
   "source": [
    "### read or initiate parameters\n",
    "\n",
    "if hotstart:\n",
    "    if os.path.exists('./hotstart/'):\n",
    "        Dparam = torch.load('./hotstart/Dweight.pth')\n",
    "        netD.load_state_dict(Dparam)\n",
    "        Gparam = torch.load('./hotstart/Gweight.pth')\n",
    "        netG.load_state_dict(Gparam)\n",
    "        Doptparams = torch.load('./hotstart/Doptimizer.pth')\n",
    "        optimizerD.load_state_dict(Doptparams)\n",
    "        Goptparams = torch.load('./hotstart/Goptimizer.pth')\n",
    "        optimizerG.load_state_dict(Goptparams)\n",
    "        with open('./hotstart/Loss.pickle', 'rb') as lb:\n",
    "            loss = pickle.load(lb)\n",
    "            steps = loss[0]\n",
    "            errGs = loss[1]\n",
    "            errDs = loss[2]\n",
    "        with open('./hotstart/fixed_noise.pickle', 'rb') as lb:\n",
    "            fixed_noise = pickle.load(lb)\n",
    "else:  \n",
    "    steps = []\n",
    "    errGs = []\n",
    "    errDs = []\n",
    "    fixed_noise = torch.randn(25, nz, 1, 1, device=device)\n",
    "\n",
    "result_dir = 'results'\n",
    "if not os.path.exists(result_dir):\n",
    "    os.mkdir(result_dir)\n",
    "with open('./results/fixed_noise.pickle', 'wb') as lb:\n",
    "      pickle.dump(fixed_noise , lb)"
   ]
  },
  {
   "cell_type": "code",
   "execution_count": 0,
   "metadata": {
    "colab": {},
    "colab_type": "code",
    "id": "vqwnD4p3UqBX"
   },
   "outputs": [],
   "source": [
    "### training here\n",
    "\n",
    "epochs = 200\n",
    "\n",
    "step = 0\n",
    "for epoch in range(epochs):\n",
    "    for ii, (real_images, train_labels) in enumerate(train_loader):\n",
    "        ############################\n",
    "        # (1) Update D network: maximize log(D(x)) + log(1 - D(G(z)))\n",
    "        ###########################\n",
    "        # train with real\n",
    "        netD.zero_grad()\n",
    "        real_images = real_images.to(device)\n",
    "        batch_size = real_images.size(0)\n",
    "        labels = torch.full((batch_size, 1), real_label, device=device)\n",
    "\n",
    "        output = netD(real_images)\n",
    "        errD_real = criterion(output, labels)\n",
    "        errD_real.backward()\n",
    "        D_x = output.mean().item()\n",
    "\n",
    "        # train with fake\n",
    "        noise = torch.randn(batch_size, nz, 1, 1, device=device)\n",
    "        fake = netG(noise)\n",
    "        labels.fill_(fake_label)\n",
    "        output = netD(fake.detach())\n",
    "        errD_fake = criterion(output, labels)\n",
    "        errD_fake.backward()\n",
    "        D_G_z1 = output.mean().item()\n",
    "        errD = errD_real + errD_fake\n",
    "        optimizerD.step()\n",
    "\n",
    "        ############################\n",
    "        # (2) Update G network: maximize log(D(G(z)))\n",
    "        ###########################\n",
    "        netG.zero_grad()\n",
    "        labels.fill_(real_label)  # fake labels are real for generator cost\n",
    "        output = netD(fake)\n",
    "        errG = criterion(output, labels)\n",
    "        errG.backward()\n",
    "        D_G_z2 = output.mean().item()\n",
    "        optimizerG.step()\n",
    "#         print('aaaaaa', time.time() - start)\n",
    "        \n",
    "        if step % 50 == 0:\n",
    "            ###### make plot to check convergence #####\n",
    "            steps.append(step)\n",
    "            errGs.append(errG.item())\n",
    "            errDs.append(errD.item())    \n",
    "            print('[%d/%d][%d/%d] Loss_D: %.4f Loss_G: %.4f D(x): %.4f D(G(z)): %.4f / %.4f'\n",
    "                  % (epoch + 1, epochs, ii, len(train_loader),\n",
    "                     errD.item(), errG.item(), D_x, D_G_z1, D_G_z2))\n",
    "            \n",
    "        if step % 500 == 0:\n",
    "            ax.cla()\n",
    "            ax.plot(steps, errGs)\n",
    "            ax.plot(steps, errDs)\n",
    "            plt.xlabel('Iteration')\n",
    "            plt.ylabel('Loss')\n",
    "            plt.legend(['Generator Loss','Discriminator Loss'])\n",
    "            clear_output(wait = True)\n",
    "            display(fig)\n",
    "            ###### add #####\n",
    "\n",
    "        step += 1\n",
    "        \n",
    "#     if epoch % 50 == 0:\n",
    "#         Loss = [steps, errGs, errDs]\n",
    "#         with open('./results/Loss.pickle', 'wb') as lb:\n",
    "#             pickle.dump(Loss , lb)\n",
    "            \n",
    "#         torch.save(netG.state_dict(), './results/Gweight.pth') \n",
    "#         torch.save(netD.state_dict(), './results/Dweight.pth')\n",
    "#         torch.save(optimizerG.state_dict(), './results/Goptimizer.pth')\n",
    "#         torch.save(optimizerD.state_dict(), './results/Doptimizer.pth')\n",
    "        \n",
    "#         !rm -f reuslts.zip\n",
    "#         !zip -r -q ./results.zip ./results\n",
    "#         files.download('./results.zip')"
   ]
  },
  {
   "cell_type": "code",
   "execution_count": 5,
   "metadata": {
    "colab": {},
    "colab_type": "code",
    "id": "5bHBKjeuUkfb"
   },
   "outputs": [
    {
     "ename": "NameError",
     "evalue": "name 'netG' is not defined",
     "output_type": "error",
     "traceback": [
      "\u001b[0;31m------------------------------------------------------\u001b[0m",
      "\u001b[0;31mNameError\u001b[0m            Traceback (most recent call last)",
      "\u001b[0;32m<ipython-input-5-26f14b30c0e2>\u001b[0m in \u001b[0;36m<module>\u001b[0;34m\u001b[0m\n\u001b[1;32m      5\u001b[0m \u001b[0;32mfor\u001b[0m \u001b[0mi_batch\u001b[0m \u001b[0;32min\u001b[0m \u001b[0mrange\u001b[0m\u001b[0;34m(\u001b[0m\u001b[0;36m0\u001b[0m\u001b[0;34m,\u001b[0m \u001b[0mn_images\u001b[0m\u001b[0;34m,\u001b[0m \u001b[0mim_batch_size\u001b[0m\u001b[0;34m)\u001b[0m\u001b[0;34m:\u001b[0m\u001b[0;34m\u001b[0m\u001b[0;34m\u001b[0m\u001b[0m\n\u001b[1;32m      6\u001b[0m     \u001b[0mgen_z\u001b[0m \u001b[0;34m=\u001b[0m \u001b[0mtorch\u001b[0m\u001b[0;34m.\u001b[0m\u001b[0mrandn\u001b[0m\u001b[0;34m(\u001b[0m\u001b[0mim_batch_size\u001b[0m\u001b[0;34m,\u001b[0m \u001b[0;36m100\u001b[0m\u001b[0;34m,\u001b[0m \u001b[0;36m1\u001b[0m\u001b[0;34m,\u001b[0m \u001b[0;36m1\u001b[0m\u001b[0;34m,\u001b[0m \u001b[0mdevice\u001b[0m\u001b[0;34m=\u001b[0m\u001b[0mdevice\u001b[0m\u001b[0;34m)\u001b[0m\u001b[0;34m\u001b[0m\u001b[0;34m\u001b[0m\u001b[0m\n\u001b[0;32m----> 7\u001b[0;31m     \u001b[0mgen_images\u001b[0m \u001b[0;34m=\u001b[0m \u001b[0mnetG\u001b[0m\u001b[0;34m(\u001b[0m\u001b[0mgen_z\u001b[0m\u001b[0;34m)\u001b[0m\u001b[0;34m\u001b[0m\u001b[0;34m\u001b[0m\u001b[0m\n\u001b[0m\u001b[1;32m      8\u001b[0m     \u001b[0mimages\u001b[0m \u001b[0;34m=\u001b[0m \u001b[0mgen_images\u001b[0m\u001b[0;34m.\u001b[0m\u001b[0mto\u001b[0m\u001b[0;34m(\u001b[0m\u001b[0;34m\"cpu\"\u001b[0m\u001b[0;34m)\u001b[0m\u001b[0;34m.\u001b[0m\u001b[0mclone\u001b[0m\u001b[0;34m(\u001b[0m\u001b[0;34m)\u001b[0m\u001b[0;34m.\u001b[0m\u001b[0mdetach\u001b[0m\u001b[0;34m(\u001b[0m\u001b[0;34m)\u001b[0m\u001b[0;34m\u001b[0m\u001b[0;34m\u001b[0m\u001b[0m\n\u001b[1;32m      9\u001b[0m     \u001b[0mimages\u001b[0m \u001b[0;34m=\u001b[0m \u001b[0mimages\u001b[0m\u001b[0;34m.\u001b[0m\u001b[0mnumpy\u001b[0m\u001b[0;34m(\u001b[0m\u001b[0;34m)\u001b[0m\u001b[0;34m.\u001b[0m\u001b[0mtranspose\u001b[0m\u001b[0;34m(\u001b[0m\u001b[0;36m0\u001b[0m\u001b[0;34m,\u001b[0m \u001b[0;36m2\u001b[0m\u001b[0;34m,\u001b[0m \u001b[0;36m3\u001b[0m\u001b[0;34m,\u001b[0m \u001b[0;36m1\u001b[0m\u001b[0;34m)\u001b[0m\u001b[0;34m\u001b[0m\u001b[0;34m\u001b[0m\u001b[0m\n",
      "\u001b[0;31mNameError\u001b[0m: name 'netG' is not defined"
     ]
    }
   ],
   "source": [
    "if not os.path.exists('../output_images/crop_brightened_200epoch'):\n",
    "    os.mkdir('../output_images/crop_brightened_200epoch')\n",
    "im_batch_size = 50\n",
    "n_images=10000\n",
    "for i_batch in range(0, n_images, im_batch_size):\n",
    "    gen_z = torch.randn(im_batch_size, 100, 1, 1, device=device)\n",
    "    gen_images = netG(gen_z)\n",
    "    images = gen_images.to(\"cpu\").clone().detach()\n",
    "    images = images.numpy().transpose(0, 2, 3, 1)\n",
    "    for i_image in range(gen_images.size(0)):\n",
    "        save_image(gen_images[i_image, :, :, :], os.path.join('../output_images', f'image_{i_batch+i_image:05d}.png'))\n",
    "\n",
    "\n",
    "import shutil\n",
    "shutil.make_archive('output_images', 'zip', '../output_images')\n",
    "\n",
    "######\n",
    "elapsed_time = time.time() - start\n",
    "elapsed_time"
   ]
  },
  {
   "cell_type": "code",
   "execution_count": 0,
   "metadata": {
    "colab": {
     "base_uri": "https://localhost:8080/",
     "height": 357
    },
    "colab_type": "code",
    "executionInfo": {
     "elapsed": 10198853,
     "status": "error",
     "timestamp": 1572259070402,
     "user": {
      "displayName": "Katsuyuki Tomita",
      "photoUrl": "",
      "userId": "01382129506723224111"
     },
     "user_tz": 240
    },
    "id": "-dJ09OGyR-2G",
    "outputId": "379de116-345b-4ac6-b2ce-57545e55788e"
   },
   "outputs": [
    {
     "ename": "KeyboardInterrupt",
     "evalue": "ignored",
     "output_type": "error",
     "traceback": [
      "\u001b[0;31m---------------------------------------------------------------------------\u001b[0m",
      "\u001b[0;31mKeyboardInterrupt\u001b[0m                         Traceback (most recent call last)",
      "\u001b[0;32m<ipython-input-8-f343d9aa3799>\u001b[0m in \u001b[0;36m<module>\u001b[0;34m()\u001b[0m\n\u001b[1;32m     10\u001b[0m \u001b[0;34m\u001b[0m\u001b[0m\n\u001b[1;32m     11\u001b[0m \u001b[0mget_ipython\u001b[0m\u001b[0;34m(\u001b[0m\u001b[0;34m)\u001b[0m\u001b[0;34m.\u001b[0m\u001b[0msystem\u001b[0m\u001b[0;34m(\u001b[0m\u001b[0;34m'zip -r -q ./results.zip ./results'\u001b[0m\u001b[0;34m)\u001b[0m\u001b[0;34m\u001b[0m\u001b[0;34m\u001b[0m\u001b[0m\n\u001b[0;32m---> 12\u001b[0;31m \u001b[0mfiles\u001b[0m\u001b[0;34m.\u001b[0m\u001b[0mdownload\u001b[0m\u001b[0;34m(\u001b[0m\u001b[0;34m'./results.zip'\u001b[0m\u001b[0;34m)\u001b[0m\u001b[0;34m\u001b[0m\u001b[0;34m\u001b[0m\u001b[0m\n\u001b[0m",
      "\u001b[0;32m/usr/local/lib/python3.6/dist-packages/google/colab/files.py\u001b[0m in \u001b[0;36mdownload\u001b[0;34m(filename)\u001b[0m\n\u001b[1;32m    176\u001b[0m       \u001b[0;34m'port'\u001b[0m\u001b[0;34m:\u001b[0m \u001b[0mport\u001b[0m\u001b[0;34m,\u001b[0m\u001b[0;34m\u001b[0m\u001b[0;34m\u001b[0m\u001b[0m\n\u001b[1;32m    177\u001b[0m       \u001b[0;34m'path'\u001b[0m\u001b[0;34m:\u001b[0m \u001b[0m_os\u001b[0m\u001b[0;34m.\u001b[0m\u001b[0mpath\u001b[0m\u001b[0;34m.\u001b[0m\u001b[0mabspath\u001b[0m\u001b[0;34m(\u001b[0m\u001b[0mfilename\u001b[0m\u001b[0;34m)\u001b[0m\u001b[0;34m,\u001b[0m\u001b[0;34m\u001b[0m\u001b[0;34m\u001b[0m\u001b[0m\n\u001b[0;32m--> 178\u001b[0;31m       \u001b[0;34m'name'\u001b[0m\u001b[0;34m:\u001b[0m \u001b[0m_os\u001b[0m\u001b[0;34m.\u001b[0m\u001b[0mpath\u001b[0m\u001b[0;34m.\u001b[0m\u001b[0mbasename\u001b[0m\u001b[0;34m(\u001b[0m\u001b[0mfilename\u001b[0m\u001b[0;34m)\u001b[0m\u001b[0;34m,\u001b[0m\u001b[0;34m\u001b[0m\u001b[0;34m\u001b[0m\u001b[0m\n\u001b[0m\u001b[1;32m    179\u001b[0m   })\n",
      "\u001b[0;32m/usr/local/lib/python3.6/dist-packages/google/colab/output/_js.py\u001b[0m in \u001b[0;36meval_js\u001b[0;34m(script, ignore_result)\u001b[0m\n\u001b[1;32m     37\u001b[0m   \u001b[0;32mif\u001b[0m \u001b[0mignore_result\u001b[0m\u001b[0;34m:\u001b[0m\u001b[0;34m\u001b[0m\u001b[0;34m\u001b[0m\u001b[0m\n\u001b[1;32m     38\u001b[0m     \u001b[0;32mreturn\u001b[0m\u001b[0;34m\u001b[0m\u001b[0;34m\u001b[0m\u001b[0m\n\u001b[0;32m---> 39\u001b[0;31m   \u001b[0;32mreturn\u001b[0m \u001b[0m_message\u001b[0m\u001b[0;34m.\u001b[0m\u001b[0mread_reply_from_input\u001b[0m\u001b[0;34m(\u001b[0m\u001b[0mrequest_id\u001b[0m\u001b[0;34m)\u001b[0m\u001b[0;34m\u001b[0m\u001b[0;34m\u001b[0m\u001b[0m\n\u001b[0m\u001b[1;32m     40\u001b[0m \u001b[0;34m\u001b[0m\u001b[0m\n\u001b[1;32m     41\u001b[0m \u001b[0;34m\u001b[0m\u001b[0m\n",
      "\u001b[0;32m/usr/local/lib/python3.6/dist-packages/google/colab/_message.py\u001b[0m in \u001b[0;36mread_reply_from_input\u001b[0;34m(message_id, timeout_sec)\u001b[0m\n\u001b[1;32m     99\u001b[0m     \u001b[0mreply\u001b[0m \u001b[0;34m=\u001b[0m \u001b[0m_read_next_input_message\u001b[0m\u001b[0;34m(\u001b[0m\u001b[0;34m)\u001b[0m\u001b[0;34m\u001b[0m\u001b[0;34m\u001b[0m\u001b[0m\n\u001b[1;32m    100\u001b[0m     \u001b[0;32mif\u001b[0m \u001b[0mreply\u001b[0m \u001b[0;34m==\u001b[0m \u001b[0m_NOT_READY\u001b[0m \u001b[0;32mor\u001b[0m \u001b[0;32mnot\u001b[0m \u001b[0misinstance\u001b[0m\u001b[0;34m(\u001b[0m\u001b[0mreply\u001b[0m\u001b[0;34m,\u001b[0m \u001b[0mdict\u001b[0m\u001b[0;34m)\u001b[0m\u001b[0;34m:\u001b[0m\u001b[0;34m\u001b[0m\u001b[0;34m\u001b[0m\u001b[0m\n\u001b[0;32m--> 101\u001b[0;31m       \u001b[0mtime\u001b[0m\u001b[0;34m.\u001b[0m\u001b[0msleep\u001b[0m\u001b[0;34m(\u001b[0m\u001b[0;36m0.025\u001b[0m\u001b[0;34m)\u001b[0m\u001b[0;34m\u001b[0m\u001b[0;34m\u001b[0m\u001b[0m\n\u001b[0m\u001b[1;32m    102\u001b[0m       \u001b[0;32mcontinue\u001b[0m\u001b[0;34m\u001b[0m\u001b[0;34m\u001b[0m\u001b[0m\n\u001b[1;32m    103\u001b[0m     if (reply.get('type') == 'colab_reply' and\n",
      "\u001b[0;31mKeyboardInterrupt\u001b[0m: "
     ]
    }
   ],
   "source": [
    "##### download to local #####\n",
    "\n",
    "Loss = [steps, errGs, errDs]\n",
    "with open('./results/Loss.pickle', 'wb') as lb:\n",
    "    pickle.dump(Loss , lb)\n",
    "\n",
    "torch.save(netG.state_dict(), './results/Gweight.pth') \n",
    "torch.save(netD.state_dict(), './results/Dweight.pth')\n",
    "torch.save(optimizerG.state_dict(), './results/Goptimizer.pth')\n",
    "torch.save(optimizerD.state_dict(), './results/Doptimizer.pth')\n",
    "\n",
    "!zip -r -q ./results.zip ./results\n",
    "files.download('./results.zip')"
   ]
  },
  {
   "cell_type": "code",
   "execution_count": 0,
   "metadata": {
    "colab": {},
    "colab_type": "code",
    "id": "gjypIkg_KZiD"
   },
   "outputs": [],
   "source": [
    "files.download('./output_images.zip')"
   ]
  },
  {
   "cell_type": "code",
   "execution_count": 0,
   "metadata": {
    "colab": {},
    "colab_type": "code",
    "id": "0GCGf9TGwqzA"
   },
   "outputs": [],
   "source": []
  }
 ],
 "metadata": {
  "accelerator": "GPU",
  "colab": {
   "collapsed_sections": [],
   "name": "DCGAN_crop_hotstart.ipynb",
   "provenance": []
  },
  "kernelspec": {
   "display_name": "Python 3",
   "language": "python",
   "name": "python3"
  },
  "language_info": {
   "codemirror_mode": {
    "name": "ipython",
    "version": 3
   },
   "file_extension": ".py",
   "mimetype": "text/x-python",
   "name": "python",
   "nbconvert_exporter": "python",
   "pygments_lexer": "ipython3",
   "version": "3.6.7"
  }
 },
 "nbformat": 4,
 "nbformat_minor": 1
}
