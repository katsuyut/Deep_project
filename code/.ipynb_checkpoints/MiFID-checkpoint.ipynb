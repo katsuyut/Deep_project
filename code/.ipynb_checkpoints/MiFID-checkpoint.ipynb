{
 "cells": [
  {
   "cell_type": "code",
   "execution_count": 9,
   "metadata": {},
   "outputs": [
    {
     "name": "stdout",
     "output_type": "stream",
     "text": [
      "['.ipynb_checkpoints', 'all-dogs', 'all-dogs-crop', 'all-dogs-crop2', 'all-dogs-crop3']\n"
     ]
    }
   ],
   "source": [
    "# This Python 3 environment comes with many helpful analytics libraries installed\n",
    "# It is defined by the kaggle/python docker image: https://github.com/kaggle/docker-python\n",
    "# For example, here's several helpful packages to load in \n",
    "\n",
    "import numpy as np # linear algebra\n",
    "import pandas as pd # data processing, CSV file I/O (e.g. pd.read_csv)\n",
    "\n",
    "# Input data files are available in the \"../input/\" directory.\n",
    "# For example, running this (by clicking run or pressing Shift+Enter) will list the files in the input directory\n",
    "\n",
    "import os\n",
    "print(os.listdir(\"../input\"))\n",
    "\n",
    "# Any results you write to the current directory are saved as output."
   ]
  },
  {
   "cell_type": "code",
   "execution_count": 23,
   "metadata": {
    "scrolled": true
   },
   "outputs": [],
   "source": [
    "from __future__ import absolute_import, division, print_function\n",
    "import numpy as np\n",
    "import os\n",
    "import gzip, pickle\n",
    "import tensorflow as tf\n",
    "from scipy import linalg\n",
    "import pathlib\n",
    "import urllib\n",
    "import warnings\n",
    "from tqdm import tqdm\n",
    "from PIL import Image\n",
    "import pickle\n",
    "\n",
    "class KernelEvalException(Exception):\n",
    "    pass\n",
    "\n",
    "model_params = {\n",
    "    'Inception': {\n",
    "        'name': 'Inception', \n",
    "        'imsize': 64,\n",
    "        'output_layer': 'Pretrained_Net/pool_3:0', \n",
    "        'input_layer': 'Pretrained_Net/ExpandDims:0',\n",
    "        'output_shape': 2048,\n",
    "        'cosine_distance_eps': 0.1\n",
    "        }\n",
    "}\n",
    "\n",
    "def create_model_graph(pth):\n",
    "    \"\"\"Creates a graph from saved GraphDef file.\"\"\"\n",
    "    # Creates graph from saved graph_def.pb.\n",
    "    with tf.gfile.FastGFile( pth, 'rb') as f:\n",
    "        graph_def = tf.GraphDef()\n",
    "        graph_def.ParseFromString( f.read())\n",
    "        _ = tf.import_graph_def( graph_def, name='Pretrained_Net')\n",
    "\n",
    "def _get_model_layer(sess, model_name):\n",
    "    # layername = 'Pretrained_Net/final_layer/Mean:0'\n",
    "    layername = model_params[model_name]['output_layer']\n",
    "    layer = sess.graph.get_tensor_by_name(layername)\n",
    "    ops = layer.graph.get_operations()\n",
    "    for op_idx, op in enumerate(ops):\n",
    "        for o in op.outputs:\n",
    "            shape = o.get_shape()\n",
    "            if shape._dims != []:\n",
    "                shape = [s.value for s in shape]\n",
    "                new_shape = []\n",
    "                for j, s in enumerate(shape):\n",
    "                    if s == 1 and j == 0:\n",
    "                        new_shape.append(None)\n",
    "                    else:\n",
    "                        new_shape.append(s)\n",
    "                o.__dict__['_shape_val'] = tf.TensorShape(new_shape)\n",
    "    return layer\n",
    "\n",
    "def get_activations(images, sess, model_name, batch_size=50, verbose=False):\n",
    "    \"\"\"Calculates the activations of the pool_3 layer for all images.\n",
    "    Params:\n",
    "    -- images      : Numpy array of dimension (n_images, hi, wi, 3). The values\n",
    "                     must lie between 0 and 256.\n",
    "    -- sess        : current session\n",
    "    -- batch_size  : the images numpy array is split into batches with batch size\n",
    "                     batch_size. A reasonable batch size depends on the disposable hardware.\n",
    "    -- verbose    : If set to True and parameter out_step is given, the number of calculated\n",
    "                     batches is reported.\n",
    "    Returns:\n",
    "    -- A numpy array of dimension (num images, 2048) that contains the\n",
    "       activations of the given tensor when feeding inception with the query tensor.\n",
    "    \"\"\"\n",
    "    inception_layer = _get_model_layer(sess, model_name)\n",
    "    n_images = images.shape[0]\n",
    "    if batch_size > n_images:\n",
    "        print(\"warning: batch size is bigger than the data size. setting batch size to data size\")\n",
    "        batch_size = n_images\n",
    "    n_batches = n_images//batch_size + 1\n",
    "    pred_arr = np.empty((n_images,model_params[model_name]['output_shape']))\n",
    "    for i in tqdm(range(n_batches)):\n",
    "        if verbose:\n",
    "            print(\"\\rPropagating batch %d/%d\" % (i+1, n_batches), end=\"\", flush=True)\n",
    "        start = i*batch_size\n",
    "        if start+batch_size < n_images:\n",
    "            end = start+batch_size\n",
    "        else:\n",
    "            end = n_images\n",
    "                    \n",
    "        batch = images[start:end]\n",
    "        pred = sess.run(inception_layer, {model_params[model_name]['input_layer']: batch})\n",
    "        pred_arr[start:end] = pred.reshape(-1,model_params[model_name]['output_shape'])\n",
    "    if verbose:\n",
    "        print(\" done\")\n",
    "    return pred_arr\n",
    "\n",
    "\n",
    "# def calculate_memorization_distance(features1, features2):\n",
    "#     neigh = NearestNeighbors(n_neighbors=1, algorithm='kd_tree', metric='euclidean')\n",
    "#     neigh.fit(features2) \n",
    "#     d, _ = neigh.kneighbors(features1, return_distance=True)\n",
    "#     print('d.shape=',d.shape)\n",
    "#     return np.mean(d)\n",
    "\n",
    "def normalize_rows(x: np.ndarray):\n",
    "    \"\"\"\n",
    "    function that normalizes each row of the matrix x to have unit length.\n",
    "    Args:\n",
    "     ``x``: A numpy matrix of shape (n, m)\n",
    "    Returns:\n",
    "     ``x``: The normalized (by row) numpy matrix.\n",
    "    \"\"\"\n",
    "    return np.nan_to_num(x/np.linalg.norm(x, ord=2, axis=1, keepdims=True))\n",
    "\n",
    "\n",
    "def cosine_distance(features1, features2):\n",
    "    # print('rows of zeros in features1 = ',sum(np.sum(features1, axis=1) == 0))\n",
    "    # print('rows of zeros in features2 = ',sum(np.sum(features2, axis=1) == 0))\n",
    "    features1_nozero = features1[np.sum(features1, axis=1) != 0]\n",
    "    features2_nozero = features2[np.sum(features2, axis=1) != 0]\n",
    "    norm_f1 = normalize_rows(features1_nozero)\n",
    "    norm_f2 = normalize_rows(features2_nozero)\n",
    "\n",
    "    d = 1.0-np.abs(np.matmul(norm_f1, norm_f2.T))\n",
    "    print('d.shape=',d.shape)\n",
    "    print('np.min(d, axis=1).shape=',np.min(d, axis=1).shape)\n",
    "    mean_min_d = np.mean(np.min(d, axis=1))\n",
    "    print('distance=',mean_min_d)\n",
    "    return mean_min_d\n",
    "\n",
    "\n",
    "def distance_thresholding(d, eps):\n",
    "    if d < eps:\n",
    "        return d\n",
    "    else:\n",
    "        return 1\n",
    "\n",
    "def calculate_frechet_distance(mu1, sigma1, mu2, sigma2, eps=1e-6):\n",
    "    \"\"\"Numpy implementation of the Frechet Distance.\n",
    "    The Frechet distance between two multivariate Gaussians X_1 ~ N(mu_1, C_1)\n",
    "    and X_2 ~ N(mu_2, C_2) is\n",
    "            d^2 = ||mu_1 - mu_2||^2 + Tr(C_1 + C_2 - 2*sqrt(C_1*C_2)).\n",
    "            \n",
    "    Stable version by Dougal J. Sutherland.\n",
    "    Params:\n",
    "    -- mu1 : Numpy array containing the activations of the pool_3 layer of the\n",
    "             inception net ( like returned by the function 'get_predictions')\n",
    "             for generated samples.\n",
    "    -- mu2   : The sample mean over activations of the pool_3 layer, precalcualted\n",
    "               on an representive data set.\n",
    "    -- sigma1: The covariance matrix over activations of the pool_3 layer for\n",
    "               generated samples.\n",
    "    -- sigma2: The covariance matrix over activations of the pool_3 layer,\n",
    "               precalcualted on an representive data set.\n",
    "    Returns:\n",
    "    --   : The Frechet Distance.\n",
    "    \"\"\"\n",
    "\n",
    "    mu1 = np.atleast_1d(mu1)\n",
    "    mu2 = np.atleast_1d(mu2)\n",
    "\n",
    "    sigma1 = np.atleast_2d(sigma1)\n",
    "    sigma2 = np.atleast_2d(sigma2)\n",
    "\n",
    "    assert mu1.shape == mu2.shape, \"Training and test mean vectors have different lengths\"\n",
    "    assert sigma1.shape == sigma2.shape, \"Training and test covariances have different dimensions\"\n",
    "\n",
    "    diff = mu1 - mu2\n",
    "\n",
    "    # product might be almost singular\n",
    "    covmean, _ = linalg.sqrtm(sigma1.dot(sigma2), disp=False)\n",
    "    if not np.isfinite(covmean).all():\n",
    "        msg = \"fid calculation produces singular product; adding %s to diagonal of cov estimates\" % eps\n",
    "        warnings.warn(msg)\n",
    "        offset = np.eye(sigma1.shape[0]) * eps\n",
    "        # covmean = linalg.sqrtm((sigma1 + offset).dot(sigma2 + offset))\n",
    "        covmean = linalg.sqrtm((sigma1 + offset).dot(sigma2 + offset))\n",
    "    \n",
    "    # numerical error might give slight imaginary component\n",
    "    if np.iscomplexobj(covmean):\n",
    "        if not np.allclose(np.diagonal(covmean).imag, 0, atol=1e-3):\n",
    "            m = np.max(np.abs(covmean.imag))\n",
    "            raise ValueError(\"Imaginary component {}\".format(m))\n",
    "        covmean = covmean.real\n",
    "\n",
    "    # covmean = tf.linalg.sqrtm(tf.linalg.matmul(sigma1,sigma2))\n",
    "\n",
    "    print('covmean.shape=',covmean.shape)\n",
    "    # tr_covmean = tf.linalg.trace(covmean)\n",
    "\n",
    "    tr_covmean = np.trace(covmean)\n",
    "    return diff.dot(diff) + np.trace(sigma1) + np.trace(sigma2) - 2 * tr_covmean\n",
    "    # return diff.dot(diff) + tf.linalg.trace(sigma1) + tf.linalg.trace(sigma2) - 2 * tr_covmean\n",
    "#-------------------------------------------------------------------------------\n",
    "\n",
    "\n",
    "def calculate_activation_statistics(images, sess, model_name, batch_size=50, verbose=False):\n",
    "    \"\"\"Calculation of the statistics used by the FID.\n",
    "    Params:\n",
    "    -- images      : Numpy array of dimension (n_images, hi, wi, 3). The values\n",
    "                     must lie between 0 and 255.\n",
    "    -- sess        : current session\n",
    "    -- batch_size  : the images numpy array is split into batches with batch size\n",
    "                     batch_size. A reasonable batch size depends on the available hardware.\n",
    "    -- verbose     : If set to True and parameter out_step is given, the number of calculated\n",
    "                     batches is reported.\n",
    "    Returns:\n",
    "    -- mu    : The mean over samples of the activations of the pool_3 layer of\n",
    "               the incption model.\n",
    "    -- sigma : The covariance matrix of the activations of the pool_3 layer of\n",
    "               the incption model.\n",
    "    \"\"\"\n",
    "    act = get_activations(images, sess, model_name, batch_size, verbose)\n",
    "    mu = np.mean(act, axis=0)\n",
    "    sigma = np.cov(act, rowvar=False)\n",
    "    return mu, sigma, act\n",
    "    \n",
    "def _handle_path_memorization(path, sess, model_name, is_checksize, is_check_png):\n",
    "    path = pathlib.Path(path)\n",
    "    files = list(path.glob('*.jpg')) + list(path.glob('*.png'))\n",
    "    imsize = model_params[model_name]['imsize']\n",
    "    x = np.empty((len(files), 64, 64, 3))\n",
    "    for i, fn in enumerate(files):\n",
    "        u = np.array(img_read_checks(fn, imsize, is_checksize, imsize, is_check_png))\n",
    "        #print(i)\n",
    "        x[i] = u\n",
    "    # In production we don't resize input images. This is just for demo purpose. \n",
    "    #x = np.array([np.array(img_read_checks(fn, imsize, is_checksize, imsize, is_check_png)) for fn in files])\n",
    "    m, s, features = calculate_activation_statistics(x, sess, model_name)\n",
    "    del x #clean up memory\n",
    "    return m, s, features\n",
    "\n",
    "# check for image size\n",
    "def img_read_checks(filename, resize_to, is_checksize=False, check_imsize = 64, is_check_png = False):\n",
    "    im = Image.open(str(filename))\n",
    "    if is_checksize and im.size != (check_imsize,check_imsize):\n",
    "        raise KernelEvalException('The images are not of size '+str(check_imsize))\n",
    "    \n",
    "    if is_check_png and im.format != 'PNG':\n",
    "        raise KernelEvalException('Only PNG images should be submitted.')\n",
    "\n",
    "    if resize_to is None:\n",
    "        return im\n",
    "    else:\n",
    "        return im.resize((resize_to,resize_to),Image.ANTIALIAS)\n",
    "\n",
    "def calculate_kid_given_paths(paths, model_name, model_path, feature_path=None):\n",
    "    ''' Calculates the KID of two paths. '''\n",
    "    tf.reset_default_graph()\n",
    "    create_model_graph(str(model_path))\n",
    "    with tf.Session() as sess:\n",
    "        sess.run(tf.global_variables_initializer())\n",
    "        m1, s1, features1 = _handle_path_memorization(paths[0], sess, model_name, is_checksize = True, is_check_png = True)\n",
    "        if feature_path is None:\n",
    "            m2, s2, features2 = _handle_path_memorization(paths[1], sess, model_name, is_checksize = False, is_check_png = False)\n",
    "        else:\n",
    "#             with np.load(feature_path) as f:\n",
    "#                 m2, s2, features2 = f['m'], f['s'], f['features']\n",
    "            with open(feature_path, \"rb\") as f:\n",
    "                data = pickle.load(f)\n",
    "                m2, s2, features2 = data['m'], data['s'], data['features']\n",
    "\n",
    "        print('m1,m2 shape=',(m1.shape,m2.shape),'s1,s2=',(s1.shape,s2.shape))\n",
    "        print('starting calculating FID')\n",
    "        fid_value = calculate_frechet_distance(m1, s1, m2, s2)\n",
    "        print('done with FID, starting distance calculation')\n",
    "        distance = cosine_distance(features1, features2)        \n",
    "        return fid_value, distance"
   ]
  },
  {
   "cell_type": "code",
   "execution_count": 24,
   "metadata": {},
   "outputs": [],
   "source": [
    "feature_path = '../metric/all_dogs_features.pickle'"
   ]
  },
  {
   "cell_type": "code",
   "execution_count": null,
   "metadata": {},
   "outputs": [],
   "source": []
  },
  {
   "cell_type": "code",
   "execution_count": null,
   "metadata": {},
   "outputs": [],
   "source": []
  },
  {
   "cell_type": "code",
   "execution_count": null,
   "metadata": {},
   "outputs": [],
   "source": []
  },
  {
   "cell_type": "code",
   "execution_count": null,
   "metadata": {},
   "outputs": [],
   "source": []
  },
  {
   "cell_type": "code",
   "execution_count": null,
   "metadata": {},
   "outputs": [],
   "source": []
  },
  {
   "cell_type": "code",
   "execution_count": 25,
   "metadata": {},
   "outputs": [
    {
     "name": "stderr",
     "output_type": "stream",
     "text": [
      "100%|██████████| 201/201 [22:43<00:00,  6.79s/it]\n"
     ]
    },
    {
     "name": "stdout",
     "output_type": "stream",
     "text": [
      "m1,m2 shape= ((2048,), (2048,)) s1,s2= ((2048, 2048), (2048, 2048))\n",
      "starting calculating FID\n",
      "covmean.shape= (2048, 2048)\n",
      "done with FID, starting distance calculation\n",
      "d.shape= (10000, 20580)\n",
      "np.min(d, axis=1).shape= (10000,)\n",
      "distance= 0.2635417794310977\n",
      "FID_public:  107.06552132084403 distance_public:  1 multiplied_public:  107.06552132084296\n"
     ]
    }
   ],
   "source": [
    "user_images_unzipped_path = '../output_images/crop3_200epoch/'\n",
    "images_path = [user_images_unzipped_path,'../input/all-dogs/pics/']\n",
    "\n",
    "public_path = '../metric/classify_image_graph_def.pb'\n",
    "\n",
    "fid_epsilon = 10e-15\n",
    "\n",
    "fid_value_public, distance_public = calculate_kid_given_paths(images_path, 'Inception', public_path, feature_path)\n",
    "distance_public = distance_thresholding(distance_public, model_params['Inception']['cosine_distance_eps'])\n",
    "print(\"FID_public: \", fid_value_public, \"distance_public: \", distance_public, \"multiplied_public: \", fid_value_public /(distance_public + fid_epsilon))"
   ]
  },
  {
   "cell_type": "code",
   "execution_count": 3,
   "metadata": {},
   "outputs": [
    {
     "name": "stdout",
     "output_type": "stream",
     "text": [
      "WARNING:tensorflow:From <ipython-input-2-59c56fd95cdf>:30: FastGFile.__init__ (from tensorflow.python.platform.gfile) is deprecated and will be removed in a future version.\n",
      "Instructions for updating:\n",
      "Use tf.gfile.GFile.\n"
     ]
    },
    {
     "name": "stderr",
     "output_type": "stream",
     "text": [
      "100%|██████████| 201/201 [31:09<00:00,  9.30s/it]\n",
      "100%|██████████| 412/412 [45:49<00:00,  6.67s/it]\n"
     ]
    },
    {
     "name": "stdout",
     "output_type": "stream",
     "text": [
      "m1,m2 shape= ((2048,), (2048,)) s1,s2= ((2048, 2048), (2048, 2048))\n",
      "starting calculating FID\n",
      "covmean.shape= (2048, 2048)\n",
      "done with FID, starting distance calculation\n",
      "d.shape= (10000, 20580)\n",
      "np.min(d, axis=1).shape= (10000,)\n",
      "distance= 0.2691557903921534\n",
      "FID_public:  113.92870842572768 distance_public:  1 multiplied_public:  113.92870842572654\n"
     ]
    }
   ],
   "source": [
    "user_images_unzipped_path = '../output_images/crop2_200epoch/'\n",
    "images_path = [user_images_unzipped_path,'../input/all-dogs/pics/']\n",
    "\n",
    "public_path = '../metric/classify_image_graph_def.pb'\n",
    "\n",
    "fid_epsilon = 10e-15\n",
    "\n",
    "fid_value_public, distance_public = calculate_kid_given_paths(images_path, 'Inception', public_path)\n",
    "distance_public = distance_thresholding(distance_public, model_params['Inception']['cosine_distance_eps'])\n",
    "print(\"FID_public: \", fid_value_public, \"distance_public: \", distance_public, \"multiplied_public: \", fid_value_public /(distance_public + fid_epsilon))"
   ]
  },
  {
   "cell_type": "code",
   "execution_count": 4,
   "metadata": {},
   "outputs": [
    {
     "name": "stderr",
     "output_type": "stream",
     "text": [
      "100%|██████████| 201/201 [23:11<00:00,  6.92s/it]\n",
      "100%|██████████| 412/412 [47:38<00:00,  6.94s/it]\n"
     ]
    },
    {
     "name": "stdout",
     "output_type": "stream",
     "text": [
      "m1,m2 shape= ((2048,), (2048,)) s1,s2= ((2048, 2048), (2048, 2048))\n",
      "starting calculating FID\n",
      "covmean.shape= (2048, 2048)\n",
      "done with FID, starting distance calculation\n",
      "d.shape= (10000, 20580)\n",
      "np.min(d, axis=1).shape= (10000,)\n",
      "distance= 0.2627073603375002\n",
      "FID_public:  95.9964181537004 distance_public:  1 multiplied_public:  95.99641815369945\n"
     ]
    }
   ],
   "source": [
    "user_images_unzipped_path = '../output_images/cropped_200epoch/'\n",
    "images_path = [user_images_unzipped_path,'../input/all-dogs/pics/']\n",
    "\n",
    "public_path = '../metric/classify_image_graph_def.pb'\n",
    "\n",
    "fid_epsilon = 10e-15\n",
    "\n",
    "fid_value_public, distance_public = calculate_kid_given_paths(images_path, 'Inception', public_path)\n",
    "distance_public = distance_thresholding(distance_public, model_params['Inception']['cosine_distance_eps'])\n",
    "print(\"FID_public: \", fid_value_public, \"distance_public: \", distance_public, \"multiplied_public: \", fid_value_public /(distance_public + fid_epsilon))"
   ]
  },
  {
   "cell_type": "code",
   "execution_count": 3,
   "metadata": {},
   "outputs": [
    {
     "name": "stdout",
     "output_type": "stream",
     "text": [
      "WARNING:tensorflow:From <ipython-input-2-59c56fd95cdf>:30: FastGFile.__init__ (from tensorflow.python.platform.gfile) is deprecated and will be removed in a future version.\n",
      "Instructions for updating:\n",
      "Use tf.gfile.GFile.\n"
     ]
    },
    {
     "name": "stderr",
     "output_type": "stream",
     "text": [
      "100%|██████████| 201/201 [28:15<00:00,  8.44s/it]\n",
      "100%|██████████| 412/412 [48:09<00:00,  7.01s/it]\n"
     ]
    },
    {
     "name": "stdout",
     "output_type": "stream",
     "text": [
      "m1,m2 shape= ((2048,), (2048,)) s1,s2= ((2048, 2048), (2048, 2048))\n",
      "starting calculating FID\n",
      "covmean.shape= (2048, 2048)\n",
      "done with FID, starting distance calculation\n",
      "d.shape= (10000, 20580)\n",
      "np.min(d, axis=1).shape= (10000,)\n",
      "distance= 0.2696893505251281\n",
      "FID_public:  109.89006718033863 distance_public:  1 multiplied_public:  109.89006718033754\n"
     ]
    }
   ],
   "source": [
    "user_images_unzipped_path = '../output_images/starter_200epoch/'\n",
    "images_path = [user_images_unzipped_path,'../input/all-dogs/pics/']\n",
    "\n",
    "public_path = '../metric/classify_image_graph_def.pb'\n",
    "\n",
    "fid_epsilon = 10e-15\n",
    "\n",
    "fid_value_public, distance_public = calculate_kid_given_paths(images_path, 'Inception', public_path)\n",
    "distance_public = distance_thresholding(distance_public, model_params['Inception']['cosine_distance_eps'])\n",
    "print(\"FID_public: \", fid_value_public, \"distance_public: \", distance_public, \"multiplied_public: \", fid_value_public /(distance_public + fid_epsilon))"
   ]
  },
  {
   "cell_type": "code",
   "execution_count": 9,
   "metadata": {},
   "outputs": [
    {
     "name": "stderr",
     "output_type": "stream",
     "text": [
      "100%|██████████| 201/201 [24:12<00:00,  7.23s/it]\n",
      "100%|██████████| 412/412 [50:11<00:00,  7.31s/it] \n"
     ]
    },
    {
     "name": "stdout",
     "output_type": "stream",
     "text": [
      "m1,m2 shape= ((2048,), (2048,)) s1,s2= ((2048, 2048), (2048, 2048))\n",
      "starting calculating FID\n",
      "covmean.shape= (2048, 2048)\n",
      "done with FID, starting distance calculation\n",
      "d.shape= (10000, 20580)\n",
      "np.min(d, axis=1).shape= (10000,)\n",
      "distance= 0.28318548456221204\n",
      "FID_public:  133.43978120880894 distance_public:  1 multiplied_public:  133.4397812088076\n"
     ]
    }
   ],
   "source": [
    "user_images_unzipped_path = '../output_images/starter_30epoch/'\n",
    "images_path = [user_images_unzipped_path,'../input/all-dogs/']\n",
    "\n",
    "public_path = '../metric/classify_image_graph_def.pb'\n",
    "\n",
    "fid_epsilon = 10e-15\n",
    "\n",
    "fid_value_public, distance_public = calculate_kid_given_paths(images_path, 'Inception', public_path)\n",
    "distance_public = distance_thresholding(distance_public, model_params['Inception']['cosine_distance_eps'])\n",
    "print(\"FID_public: \", fid_value_public, \"distance_public: \", distance_public, \"multiplied_public: \", fid_value_public /(distance_public + fid_epsilon))"
   ]
  },
  {
   "cell_type": "code",
   "execution_count": null,
   "metadata": {},
   "outputs": [],
   "source": []
  },
  {
   "cell_type": "code",
   "execution_count": 5,
   "metadata": {},
   "outputs": [
    {
     "name": "stderr",
     "output_type": "stream",
     "text": [
      "100%|██████████| 412/412 [42:32<00:00,  6.19s/it]\n"
     ]
    }
   ],
   "source": [
    "m2, s2, features2 = _handle_path_memorization(images_path[1], tf.Session(), 'Inception', is_checksize = False, is_check_png = False)\n",
    "\n",
    "all_dogs_features = {}\n",
    "all_dogs_features['m'] = m2\n",
    "all_dogs_features['s'] = s2\n",
    "all_dogs_features['features'] = features2\n",
    "\n",
    "with open('../metric/all_dogs_features.pickle', 'wb') as lb:\n",
    "    pickle.dump(all_dogs_features , lb)"
   ]
  },
  {
   "cell_type": "code",
   "execution_count": null,
   "metadata": {},
   "outputs": [],
   "source": []
  }
 ],
 "metadata": {
  "kernelspec": {
   "display_name": "Python 3",
   "language": "python",
   "name": "python3"
  },
  "language_info": {
   "codemirror_mode": {
    "name": "ipython",
    "version": 3
   },
   "file_extension": ".py",
   "mimetype": "text/x-python",
   "name": "python",
   "nbconvert_exporter": "python",
   "pygments_lexer": "ipython3",
   "version": "3.6.7"
  }
 },
 "nbformat": 4,
 "nbformat_minor": 2
}
