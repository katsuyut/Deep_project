{
 "cells": [
  {
   "cell_type": "code",
   "execution_count": 1,
   "metadata": {
    "colab": {
     "base_uri": "https://localhost:8080/",
     "height": 34
    },
    "colab_type": "code",
    "executionInfo": {
     "elapsed": 1852,
     "status": "ok",
     "timestamp": 1571843134907,
     "user": {
      "displayName": "Katsuyuki Tomita",
      "photoUrl": "",
      "userId": "01382129506723224111"
     },
     "user_tz": 240
    },
    "id": "KZAhhvoC4FMs",
    "outputId": "79ae02d6-fb33-44ce-dbae-4fb9ed54be5b"
   },
   "outputs": [
    {
     "name": "stdout",
     "output_type": "stream",
     "text": [
      "fatal: destination path 'Deep_project' already exists and is not an empty directory.\n"
     ]
    }
   ],
   "source": [
    "!git clone https://github.com/katsuyut/Deep_project"
   ]
  },
  {
   "cell_type": "code",
   "execution_count": 2,
   "metadata": {
    "colab": {
     "base_uri": "https://localhost:8080/",
     "height": 34
    },
    "colab_type": "code",
    "executionInfo": {
     "elapsed": 2031,
     "status": "ok",
     "timestamp": 1571843135098,
     "user": {
      "displayName": "Katsuyuki Tomita",
      "photoUrl": "",
      "userId": "01382129506723224111"
     },
     "user_tz": 240
    },
    "id": "ffhjUgS24peO",
    "outputId": "f443d104-06df-461e-80b4-7faa653f2068"
   },
   "outputs": [
    {
     "name": "stdout",
     "output_type": "stream",
     "text": [
      "/content/Deep_project/code\n"
     ]
    }
   ],
   "source": [
    "%cd Deep_project/code"
   ]
  },
  {
   "cell_type": "code",
   "execution_count": 3,
   "metadata": {
    "colab": {
     "base_uri": "https://localhost:8080/",
     "height": 34
    },
    "colab_type": "code",
    "executionInfo": {
     "elapsed": 2019,
     "status": "ok",
     "timestamp": 1571843135099,
     "user": {
      "displayName": "Katsuyuki Tomita",
      "photoUrl": "",
      "userId": "01382129506723224111"
     },
     "user_tz": 240
    },
    "id": "zD88pMDI4dYY",
    "outputId": "7f50f9ab-5c26-4ad2-be2c-8192fcf76bff"
   },
   "outputs": [
    {
     "name": "stdout",
     "output_type": "stream",
     "text": [
      "['all-dogs', 'metric']\n"
     ]
    }
   ],
   "source": [
    "# This Python 3 environment comes with many helpful analytics libraries installed\n",
    "# It is defined by the kaggle/python docker image: https://github.com/kaggle/docker-python\n",
    "# For example, here's several helpful packages to load in \n",
    "\n",
    "import numpy as np # linear algebra\n",
    "import pandas as pd # data processing, CSV file I/O (e.g. pd.read_csv)\n",
    "\n",
    "# Input data files are available in the \"../input/\" directory.\n",
    "# For example, running this (by clicking run or pressing Shift+Enter) will list the files in the input directory\n",
    "\n",
    "import os\n",
    "print(os.listdir(\"../input\"))\n",
    "\n",
    "# Any results you write to the current directory are saved as output."
   ]
  },
  {
   "cell_type": "code",
   "execution_count": 4,
   "metadata": {
    "colab": {
     "base_uri": "https://localhost:8080/",
     "height": 34
    },
    "colab_type": "code",
    "executionInfo": {
     "elapsed": 2271,
     "status": "ok",
     "timestamp": 1571843135402,
     "user": {
      "displayName": "Katsuyuki Tomita",
      "photoUrl": "",
      "userId": "01382129506723224111"
     },
     "user_tz": 240
    },
    "id": "BhS8lErr4e9f",
    "outputId": "545099ad-0933-46a0-f6e9-834cc84323c4"
   },
   "outputs": [
    {
     "data": {
      "text/plain": [
       "device(type='cuda')"
      ]
     },
     "execution_count": 4,
     "metadata": {
      "tags": []
     },
     "output_type": "execute_result"
    }
   ],
   "source": [
    "import torch\n",
    "device = torch.device(\"cuda\" if torch.cuda.is_available() else \"cpu\")\n",
    "device"
   ]
  },
  {
   "cell_type": "code",
   "execution_count": 5,
   "metadata": {
    "colab": {
     "base_uri": "https://localhost:8080/",
     "height": 101
    },
    "colab_type": "code",
    "executionInfo": {
     "elapsed": 11185,
     "status": "ok",
     "timestamp": 1571843144322,
     "user": {
      "displayName": "Katsuyuki Tomita",
      "photoUrl": "",
      "userId": "01382129506723224111"
     },
     "user_tz": 240
    },
    "id": "Nd3OEp5S4gqo",
    "outputId": "a948dea4-29b3-4cdd-b497-46e44b69708a"
   },
   "outputs": [
    {
     "name": "stdout",
     "output_type": "stream",
     "text": [
      "Requirement already satisfied: gputil in /usr/local/lib/python3.6/dist-packages (1.4.0)\n",
      "Requirement already satisfied: psutil in /usr/local/lib/python3.6/dist-packages (5.4.8)\n",
      "Requirement already satisfied: humanize in /usr/local/lib/python3.6/dist-packages (0.5.1)\n",
      "Gen RAM Free: 12.7 GB  | Proc size: 286.6 MB\n",
      "GPU RAM Free: 11430MB | Used: 11MB | Util   0% | Total 11441MB\n"
     ]
    }
   ],
   "source": [
    "# memory footprint support libraries/code\n",
    "!ln -sf /opt/bin/nvidia-smi /usr/bin/nvidia-smi\n",
    "!pip install gputil\n",
    "!pip install psutil\n",
    "!pip install humanize\n",
    "import psutil\n",
    "import humanize\n",
    "import os\n",
    "import GPUtil as GPU\n",
    "GPUs = GPU.getGPUs()\n",
    "# XXX: only one GPU on Colab and isn’t guaranteed\n",
    "gpu = GPUs[0]\n",
    "def printm():\n",
    "    process = psutil.Process(os.getpid())\n",
    "    print(\"Gen RAM Free: \" + humanize.naturalsize( psutil.virtual_memory().available ), \" | Proc size: \" + humanize.naturalsize( process.memory_info().rss))\n",
    "    print(\"GPU RAM Free: {0:.0f}MB | Used: {1:.0f}MB | Util {2:3.0f}% | Total {3:.0f}MB\".format(gpu.memoryFree, gpu.memoryUsed, gpu.memoryUtil*100, gpu.memoryTotal))\n",
    "printm() "
   ]
  },
  {
   "cell_type": "code",
   "execution_count": 0,
   "metadata": {
    "colab": {
     "base_uri": "https://localhost:8080/",
     "height": 300
    },
    "colab_type": "code",
    "executionInfo": {
     "elapsed": 35,
     "status": "ok",
     "timestamp": 1571334240378,
     "user": {
      "displayName": "Katsuyuki Tomita",
      "photoUrl": "",
      "userId": "01382129506723224111"
     },
     "user_tz": 240
    },
    "id": "OL1rnIGp4h06",
    "outputId": "28a8119d-6e07-432a-e6b4-ea16e5705e12"
   },
   "outputs": [
    {
     "name": "stdout",
     "output_type": "stream",
     "text": [
      "[9/30][548/644] Loss_D: 1.1111 Loss_G: 2.0629 D(x): 0.6709 D(G(z)): 0.4143 / 0.1154\n"
     ]
    },
    {
     "data": {
      "image/png": "[encoded data removed]",
      "text/plain": [
       "<Figure size 432x288 with 1 Axes>"
      ]
     },
     "metadata": {
      "tags": []
     },
     "output_type": "display_data"
    }
   ],
   "source": [
    "import matplotlib.pyplot as plt\n",
    "import numpy as np\n",
    "import torch\n",
    "from torch import nn, optim\n",
    "import torch.nn.functional as F\n",
    "from torchvision import datasets, transforms\n",
    "from torchvision.utils import save_image\n",
    "import os\n",
    "from IPython.display import clear_output\n",
    "%matplotlib inline\n",
    "\n",
    "###### add #####\n",
    "import time\n",
    "start = time.time()\n",
    "\n",
    "fig = plt.figure()\n",
    "ax = fig.add_subplot(1, 1, 1) \n",
    "steps = []\n",
    "errGs = []\n",
    "errDs = []\n",
    "###### add #####\n",
    "\n",
    "batch_size = 32\n",
    "\n",
    "# 64x64 images!\n",
    "transform = transforms.Compose([transforms.Resize(64),\n",
    "                                transforms.CenterCrop(64),\n",
    "                                transforms.ToTensor(),\n",
    "                                transforms.Normalize((0.5, 0.5, 0.5), (0.5, 0.5, 0.5))])\n",
    "\n",
    "train_data = datasets.ImageFolder('../input/', transform=transform)\n",
    "train_loader = torch.utils.data.DataLoader(train_data, shuffle=True,\n",
    "                                           batch_size=batch_size)\n",
    "\n",
    "imgs, label = next(iter(train_loader))\n",
    "imgs = imgs.numpy().transpose(0, 2, 3, 1)\n",
    "\n",
    "class Generator(nn.Module):\n",
    "    def __init__(self, nz, nfeats, nchannels):\n",
    "        super(Generator, self).__init__()\n",
    "\n",
    "        # input is Z, going into a convolution\n",
    "        self.conv1 = nn.ConvTranspose2d(nz, nfeats * 8, 4, 1, 0, bias=False)\n",
    "        self.bn1 = nn.BatchNorm2d(nfeats * 8)\n",
    "        # state size. (nfeats*8) x 4 x 4\n",
    "        \n",
    "        self.conv2 = nn.ConvTranspose2d(nfeats * 8, nfeats * 8, 4, 2, 1, bias=False)\n",
    "        self.bn2 = nn.BatchNorm2d(nfeats * 8)\n",
    "        # state size. (nfeats*8) x 8 x 8\n",
    "        \n",
    "        self.conv3 = nn.ConvTranspose2d(nfeats * 8, nfeats * 4, 4, 2, 1, bias=False)\n",
    "        self.bn3 = nn.BatchNorm2d(nfeats * 4)\n",
    "        # state size. (nfeats*4) x 16 x 16\n",
    "        \n",
    "        self.conv4 = nn.ConvTranspose2d(nfeats * 4, nfeats * 2, 4, 2, 1, bias=False)\n",
    "        self.bn4 = nn.BatchNorm2d(nfeats * 2)\n",
    "        # state size. (nfeats * 2) x 32 x 32\n",
    "        \n",
    "        self.conv5 = nn.ConvTranspose2d(nfeats * 2, nfeats, 4, 2, 1, bias=False)\n",
    "        self.bn5 = nn.BatchNorm2d(nfeats)\n",
    "        # state size. (nfeats) x 64 x 64\n",
    "        \n",
    "        self.conv6 = nn.ConvTranspose2d(nfeats, nchannels, 3, 1, 1, bias=False)\n",
    "        # state size. (nchannels) x 64 x 64\n",
    "\n",
    "    def forward(self, x):\n",
    "        x = F.leaky_relu(self.bn1(self.conv1(x)))\n",
    "        x = F.leaky_relu(self.bn2(self.conv2(x)))\n",
    "        x = F.leaky_relu(self.bn3(self.conv3(x)))\n",
    "        x = F.leaky_relu(self.bn4(self.conv4(x)))\n",
    "        x = F.leaky_relu(self.bn5(self.conv5(x)))\n",
    "        x = torch.tanh(self.conv6(x))\n",
    "        \n",
    "        return x\n",
    "\n",
    "\n",
    "\n",
    "class Discriminator(nn.Module):\n",
    "    def __init__(self, nchannels, nfeats):\n",
    "        super(Discriminator, self).__init__()\n",
    "\n",
    "        # input is (nchannels) x 64 x 64\n",
    "        self.conv1 = nn.Conv2d(nchannels, nfeats, 4, 2, 1, bias=False)\n",
    "        # state size. (nfeats) x 32 x 32\n",
    "        \n",
    "        self.conv2 = nn.Conv2d(nfeats, nfeats * 2, 4, 2, 1, bias=False)\n",
    "        self.bn2 = nn.BatchNorm2d(nfeats * 2)\n",
    "        # state size. (nfeats*2) x 16 x 16\n",
    "        \n",
    "        self.conv3 = nn.Conv2d(nfeats * 2, nfeats * 4, 4, 2, 1, bias=False)\n",
    "        self.bn3 = nn.BatchNorm2d(nfeats * 4)\n",
    "        # state size. (nfeats*4) x 8 x 8\n",
    "       \n",
    "        self.conv4 = nn.Conv2d(nfeats * 4, nfeats * 8, 4, 2, 1, bias=False)\n",
    "        self.bn4 = nn.BatchNorm2d(nfeats * 8)\n",
    "        # state size. (nfeats*8) x 4 x 4\n",
    "        \n",
    "        self.conv5 = nn.Conv2d(nfeats * 8, 1, 4, 1, 0, bias=False)\n",
    "        # state size. 1 x 1 x 1\n",
    "        \n",
    "    def forward(self, x):\n",
    "        x = F.leaky_relu(self.conv1(x), 0.2)\n",
    "        x = F.leaky_relu(self.bn2(self.conv2(x)), 0.2)\n",
    "        x = F.leaky_relu(self.bn3(self.conv3(x)), 0.2)\n",
    "        x = F.leaky_relu(self.bn4(self.conv4(x)), 0.2)\n",
    "        x = torch.sigmoid(self.conv5(x))\n",
    "        \n",
    "        return x.view(-1, 1)\n",
    "\n",
    "\n",
    "device = torch.device(\"cuda\" if torch.cuda.is_available() else \"cpu\")\n",
    "\n",
    "lr = 0.0003\n",
    "beta1 = 0.5\n",
    "\n",
    "netG = Generator(100, 32, 3).to(device)\n",
    "netD = Discriminator(3, 48).to(device)\n",
    "\n",
    "criterion = nn.BCELoss()\n",
    "\n",
    "##### Load weights  #####\n",
    "if os.path.exists('./results/'):\n",
    "    Dparam = torch.load('./results/Dweight.pth')\n",
    "    netD.load_state_dict(Dparam)\n",
    "\n",
    "    Gparam = torch.load('./results/Gweight.pth')\n",
    "    netG.load_state_dict(Gparam)\n",
    "######################\n",
    "\n",
    "optimizerD = optim.Adam(netD.parameters(), lr=lr, betas=(beta1, 0.999))\n",
    "optimizerG = optim.Adam(netG.parameters(), lr=lr, betas=(beta1, 0.999))\n",
    "\n",
    "##### Load weights  #####\n",
    "if os.path.exists('./results/'):\n",
    "    Doptparams = torch.load('./results/Doptimizer.pth')\n",
    "    optimizerD.load_state_dict(Doptparams)\n",
    "\n",
    "    Goptparams = torch.load('./results/Goptimizer.pth')\n",
    "    optimizerG.load_state_dict(Goptparams)\n",
    "######################\n",
    "\n",
    "nz = 100\n",
    "fixed_noise = torch.randn(25, nz, 1, 1, device=device)\n",
    "\n",
    "real_label = 0.9\n",
    "fake_label = 0\n",
    "batch_size = train_loader.batch_size\n",
    "\n",
    "\n",
    "### training here\n",
    "\n",
    "epochs = 30\n",
    "\n",
    "step = 0\n",
    "for epoch in range(epochs):\n",
    "    for ii, (real_images, train_labels) in enumerate(train_loader):\n",
    "        ############################\n",
    "        # (1) Update D network: maximize log(D(x)) + log(1 - D(G(z)))\n",
    "        ###########################\n",
    "        # train with real\n",
    "        netD.zero_grad()\n",
    "        real_images = real_images.to(device)\n",
    "        batch_size = real_images.size(0)\n",
    "        labels = torch.full((batch_size, 1), real_label, device=device)\n",
    "\n",
    "        output = netD(real_images)\n",
    "        errD_real = criterion(output, labels)\n",
    "        errD_real.backward()\n",
    "        D_x = output.mean().item()\n",
    "\n",
    "        # train with fake\n",
    "        noise = torch.randn(batch_size, nz, 1, 1, device=device)\n",
    "        fake = netG(noise)\n",
    "        labels.fill_(fake_label)\n",
    "        output = netD(fake.detach())\n",
    "        errD_fake = criterion(output, labels)\n",
    "        errD_fake.backward()\n",
    "        D_G_z1 = output.mean().item()\n",
    "        errD = errD_real + errD_fake\n",
    "        optimizerD.step()\n",
    "\n",
    "        ############################\n",
    "        # (2) Update G network: maximize log(D(G(z)))\n",
    "        ###########################\n",
    "        netG.zero_grad()\n",
    "        labels.fill_(real_label)  # fake labels are real for generator cost\n",
    "        output = netD(fake)\n",
    "        errG = criterion(output, labels)\n",
    "        errG.backward()\n",
    "        D_G_z2 = output.mean().item()\n",
    "        optimizerG.step()\n",
    "#         print('aaaaaa', time.time() - start)\n",
    "        \n",
    "        if step % 50 == 0:\n",
    "            ###### make plot to check convergence #####\n",
    "            steps.append(step)\n",
    "            errGs.append(errG.item())\n",
    "            errDs.append(errD.item())    \n",
    "            ax.cla()\n",
    "            ax.plot(steps, errGs)\n",
    "            ax.plot(steps, errDs)\n",
    "            plt.xlabel('Iteration')\n",
    "            plt.ylabel('Loss')\n",
    "            plt.legend(['Generator Loss','Discriminator Loss'])\n",
    "            clear_output(wait = True)\n",
    "            print('[%d/%d][%d/%d] Loss_D: %.4f Loss_G: %.4f D(x): %.4f D(G(z)): %.4f / %.4f'\n",
    "                  % (epoch + 1, epochs, ii, len(train_loader),\n",
    "                     errD.item(), errG.item(), D_x, D_G_z1, D_G_z2))\n",
    "            display(fig)\n",
    "            \n",
    "            result_dir = 'results'\n",
    "            if not os.path.exists(result_dir):\n",
    "                os.mkdir(result_dir)\n",
    "            torch.save(netG.state_dict(), './results/Gweight.pth') \n",
    "            torch.save(netD.state_dict(), './results/Dweight.pth')\n",
    "            torch.save(optimizerG.state_dict(), './results/Goptimizer.pth')\n",
    "            torch.save(optimizerD.state_dict(), './results/Doptimizer.pth')\n",
    "            ###### add #####\n",
    "\n",
    "        step += 1\n",
    "        \n",
    "\n",
    "if not os.path.exists('../output_images'):\n",
    "    os.mkdir('../output_images')\n",
    "im_batch_size = 50\n",
    "n_images=10000\n",
    "for i_batch in range(0, n_images, im_batch_size):\n",
    "    gen_z = torch.randn(im_batch_size, 100, 1, 1, device=device)\n",
    "    gen_images = netG(gen_z)\n",
    "    images = gen_images.to(\"cpu\").clone().detach()\n",
    "    images = images.numpy().transpose(0, 2, 3, 1)\n",
    "    for i_image in range(gen_images.size(0)):\n",
    "        save_image(gen_images[i_image, :, :, :], os.path.join('../output_images', f'image_{i_batch+i_image:05d}.png'))\n",
    "\n",
    "\n",
    "import shutil\n",
    "shutil.make_archive('output_images', 'zip', '../output_images')\n",
    "\n",
    "######\n",
    "elapsed_time = time.time() - start\n",
    "elapsed_time"
   ]
  },
  {
   "cell_type": "code",
   "execution_count": 0,
   "metadata": {
    "colab": {},
    "colab_type": "code",
    "id": "Rd_h91VN4sUF"
   },
   "outputs": [],
   "source": [
    "##### download to local #####\n",
    "from google.colab import files\n",
    "!zip -r -q ./results.zip ./results\n",
    "files.download('./results.zip')\n",
    "\n",
    "files.download('./images.zip')\n",
    "\n",
    "import pickle\n",
    "Loss = [steps, errGs, errDs]\n",
    "with open('Loss.pickle', 'wb') as lb:\n",
    "    pickle.dump(Loss , lb)\n",
    "\n",
    "files.download('./Loss.pickle')"
   ]
  }
 ],
 "metadata": {
  "accelerator": "GPU",
  "colab": {
   "collapsed_sections": [],
   "name": "starter.ipynb",
   "provenance": []
  },
  "kernelspec": {
   "display_name": "Python 3",
   "language": "python",
   "name": "python3"
  },
  "language_info": {
   "codemirror_mode": {
    "name": "ipython",
    "version": 3
   },
   "file_extension": ".py",
   "mimetype": "text/x-python",
   "name": "python",
   "nbconvert_exporter": "python",
   "pygments_lexer": "ipython3",
   "version": "3.6.7"
  }
 },
 "nbformat": 4,
 "nbformat_minor": 1
}
